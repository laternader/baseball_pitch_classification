{
 "cells": [
  {
   "cell_type": "code",
   "execution_count": 10,
   "metadata": {},
   "outputs": [
    {
     "data": {
      "text/plain": [
       "(279660, 90)"
      ]
     },
     "execution_count": 10,
     "metadata": {},
     "output_type": "execute_result"
    }
   ],
   "source": [
    "import pandas as pd\n",
    "import numpy as np\n",
    "\n",
    "# personal import\n",
    "import project_baseball as baseball\n",
    "\n",
    "pd.set_option('display.max_columns', None)\n",
    "\n",
    "# Import Data\n",
    "mlb2020 = pd.read_csv('data/2020mlb.csv')\n",
    "mlb2020.shape"
   ]
  },
  {
   "cell_type": "code",
   "execution_count": 11,
   "metadata": {},
   "outputs": [],
   "source": [
    "# Random X and y train\n",
    "X_train = np.random.random((1000, 64))\n",
    "y_train = np.random.random((1000, 10))"
   ]
  },
  {
   "cell_type": "code",
   "execution_count": 2,
   "metadata": {},
   "outputs": [],
   "source": [
    "# RNN multi output > guess pitch \n",
    "\n",
    "# Look at all RNN multi input and multi output"
   ]
  },
  {
   "cell_type": "code",
   "execution_count": 2,
   "metadata": {},
   "outputs": [],
   "source": [
    "# RNN"
   ]
  },
  {
   "cell_type": "code",
   "execution_count": 6,
   "metadata": {},
   "outputs": [],
   "source": [
    "from keras.models import Sequential, Model\n",
    "from keras import layers\n",
    "from keras import Input"
   ]
  },
  {
   "cell_type": "code",
   "execution_count": 4,
   "metadata": {},
   "outputs": [],
   "source": [
    "input_tensor = Input(shape=(64,))\n",
    "x = layers.Dense(32, activation='relu')(input_tensor)\n",
    "x = layers.Dense(32, activation='relu')(x)\n",
    "output_tensor = layers.Dense(10, activation='softmax')(x)"
   ]
  },
  {
   "cell_type": "code",
   "execution_count": 7,
   "metadata": {},
   "outputs": [
    {
     "name": "stdout",
     "output_type": "stream",
     "text": [
      "Model: \"functional_1\"\n",
      "_________________________________________________________________\n",
      "Layer (type)                 Output Shape              Param #   \n",
      "=================================================================\n",
      "input_1 (InputLayer)         [(None, 64)]              0         \n",
      "_________________________________________________________________\n",
      "dense (Dense)                (None, 32)                2080      \n",
      "_________________________________________________________________\n",
      "dense_1 (Dense)              (None, 32)                1056      \n",
      "_________________________________________________________________\n",
      "dense_2 (Dense)              (None, 10)                330       \n",
      "=================================================================\n",
      "Total params: 3,466\n",
      "Trainable params: 3,466\n",
      "Non-trainable params: 0\n",
      "_________________________________________________________________\n"
     ]
    }
   ],
   "source": [
    "model = Model(input_tensor, output_tensor) # Turns input tensor and output tensor into a model\n",
    "\n",
    "model.summary()"
   ]
  },
  {
   "cell_type": "code",
   "execution_count": 8,
   "metadata": {},
   "outputs": [],
   "source": [
    "model.compile(optimizer='rmsprop', loss='categorical_crossentropy')"
   ]
  },
  {
   "cell_type": "code",
   "execution_count": 13,
   "metadata": {
    "scrolled": true
   },
   "outputs": [
    {
     "name": "stdout",
     "output_type": "stream",
     "text": [
      "Epoch 1/100\n",
      "8/8 [==============================] - 0s 625us/step - loss: 43.1053\n",
      "Epoch 2/100\n",
      "8/8 [==============================] - 0s 563us/step - loss: 49.4165\n",
      "Epoch 3/100\n",
      "8/8 [==============================] - 0s 563us/step - loss: 56.4934\n",
      "Epoch 4/100\n",
      "8/8 [==============================] - 0s 563us/step - loss: 63.6699\n",
      "Epoch 5/100\n",
      "8/8 [==============================] - 0s 562us/step - loss: 71.5318\n",
      "Epoch 6/100\n",
      "8/8 [==============================] - 0s 563us/step - loss: 79.8389\n",
      "Epoch 7/100\n",
      "8/8 [==============================] - 0s 562us/step - loss: 88.5528\n",
      "Epoch 8/100\n",
      "8/8 [==============================] - 0s 625us/step - loss: 97.6418\n",
      "Epoch 9/100\n",
      "8/8 [==============================] - 0s 500us/step - loss: 107.5324\n",
      "Epoch 10/100\n",
      "8/8 [==============================] - 0s 625us/step - loss: 117.6045\n",
      "Epoch 11/100\n",
      "8/8 [==============================] - 0s 563us/step - loss: 128.3872\n",
      "Epoch 12/100\n",
      "8/8 [==============================] - 0s 562us/step - loss: 139.3596\n",
      "Epoch 13/100\n",
      "8/8 [==============================] - 0s 563us/step - loss: 150.0849\n",
      "Epoch 14/100\n",
      "8/8 [==============================] - 0s 625us/step - loss: 161.9939\n",
      "Epoch 15/100\n",
      "8/8 [==============================] - 0s 500us/step - loss: 173.3560\n",
      "Epoch 16/100\n",
      "8/8 [==============================] - 0s 625us/step - loss: 185.7838\n",
      "Epoch 17/100\n",
      "8/8 [==============================] - 0s 563us/step - loss: 198.0734\n",
      "Epoch 18/100\n",
      "8/8 [==============================] - 0s 563us/step - loss: 210.8340\n",
      "Epoch 19/100\n",
      "8/8 [==============================] - 0s 563us/step - loss: 223.9734\n",
      "Epoch 20/100\n",
      "8/8 [==============================] - 0s 562us/step - loss: 235.9364\n",
      "Epoch 21/100\n",
      "8/8 [==============================] - 0s 625us/step - loss: 247.0488\n",
      "Epoch 22/100\n",
      "8/8 [==============================] - 0s 563us/step - loss: 257.9021\n",
      "Epoch 23/100\n",
      "8/8 [==============================] - 0s 625us/step - loss: 269.4597\n",
      "Epoch 24/100\n",
      "8/8 [==============================] - 0s 688us/step - loss: 281.4834\n",
      "Epoch 25/100\n",
      "8/8 [==============================] - 0s 625us/step - loss: 293.6369\n",
      "Epoch 26/100\n",
      "8/8 [==============================] - 0s 563us/step - loss: 305.2765\n",
      "Epoch 27/100\n",
      "8/8 [==============================] - 0s 625us/step - loss: 316.3905\n",
      "Epoch 28/100\n",
      "8/8 [==============================] - 0s 625us/step - loss: 329.1230\n",
      "Epoch 29/100\n",
      "8/8 [==============================] - 0s 625us/step - loss: 342.1566\n",
      "Epoch 30/100\n",
      "8/8 [==============================] - 0s 563us/step - loss: 355.8586\n",
      "Epoch 31/100\n",
      "8/8 [==============================] - 0s 563us/step - loss: 368.8573\n",
      "Epoch 32/100\n",
      "8/8 [==============================] - 0s 562us/step - loss: 383.2331\n",
      "Epoch 33/100\n",
      "8/8 [==============================] - 0s 563us/step - loss: 396.0066\n",
      "Epoch 34/100\n",
      "8/8 [==============================] - 0s 625us/step - loss: 409.3975\n",
      "Epoch 35/100\n",
      "8/8 [==============================] - 0s 500us/step - loss: 423.2861\n",
      "Epoch 36/100\n",
      "8/8 [==============================] - 0s 562us/step - loss: 438.6833\n",
      "Epoch 37/100\n",
      "8/8 [==============================] - 0s 563us/step - loss: 452.9474\n",
      "Epoch 38/100\n",
      "8/8 [==============================] - 0s 1ms/step - loss: 465.8868\n",
      "Epoch 39/100\n",
      "8/8 [==============================] - 0s 750us/step - loss: 480.4675\n",
      "Epoch 40/100\n",
      "8/8 [==============================] - 0s 750us/step - loss: 494.4635\n",
      "Epoch 41/100\n",
      "8/8 [==============================] - 0s 750us/step - loss: 505.9961\n",
      "Epoch 42/100\n",
      "8/8 [==============================] - 0s 625us/step - loss: 517.7556\n",
      "Epoch 43/100\n",
      "8/8 [==============================] - 0s 625us/step - loss: 527.2847\n",
      "Epoch 44/100\n",
      "8/8 [==============================] - 0s 625us/step - loss: 535.0853\n",
      "Epoch 45/100\n",
      "8/8 [==============================] - 0s 750us/step - loss: 541.5539\n",
      "Epoch 46/100\n",
      "8/8 [==============================] - 0s 676us/step - loss: 546.9482\n",
      "Epoch 47/100\n",
      "8/8 [==============================] - 0s 625us/step - loss: 553.7325\n",
      "Epoch 48/100\n",
      "8/8 [==============================] - 0s 750us/step - loss: 550.7777\n",
      "Epoch 49/100\n",
      "8/8 [==============================] - 0s 688us/step - loss: 550.9983\n",
      "Epoch 50/100\n",
      "8/8 [==============================] - 0s 687us/step - loss: 550.8785\n",
      "Epoch 51/100\n",
      "8/8 [==============================] - 0s 688us/step - loss: 548.2639\n",
      "Epoch 52/100\n",
      "8/8 [==============================] - 0s 563us/step - loss: 544.7009\n",
      "Epoch 53/100\n",
      "8/8 [==============================] - 0s 625us/step - loss: 538.2628\n",
      "Epoch 54/100\n",
      "8/8 [==============================] - 0s 687us/step - loss: 531.5883\n",
      "Epoch 55/100\n",
      "8/8 [==============================] - 0s 688us/step - loss: 518.0133\n",
      "Epoch 56/100\n",
      "8/8 [==============================] - 0s 688us/step - loss: 506.1727\n",
      "Epoch 57/100\n",
      "8/8 [==============================] - 0s 625us/step - loss: 495.6574\n",
      "Epoch 58/100\n",
      "8/8 [==============================] - 0s 563us/step - loss: 479.8980\n",
      "Epoch 59/100\n",
      "8/8 [==============================] - 0s 563us/step - loss: 473.5641\n",
      "Epoch 60/100\n",
      "8/8 [==============================] - 0s 563us/step - loss: 470.7867\n",
      "Epoch 61/100\n",
      "8/8 [==============================] - 0s 563us/step - loss: 471.5386\n",
      "Epoch 62/100\n",
      "8/8 [==============================] - 0s 563us/step - loss: 469.8106\n",
      "Epoch 63/100\n",
      "8/8 [==============================] - 0s 625us/step - loss: 466.2485\n",
      "Epoch 64/100\n",
      "8/8 [==============================] - 0s 560us/step - loss: 461.8337\n",
      "Epoch 65/100\n",
      "8/8 [==============================] - 0s 563us/step - loss: 461.5828\n",
      "Epoch 66/100\n",
      "8/8 [==============================] - 0s 562us/step - loss: 446.4288\n",
      "Epoch 67/100\n",
      "8/8 [==============================] - 0s 563us/step - loss: 431.5477\n",
      "Epoch 68/100\n",
      "8/8 [==============================] - 0s 533us/step - loss: 422.2120\n",
      "Epoch 69/100\n",
      "8/8 [==============================] - 0s 563us/step - loss: 419.0635\n",
      "Epoch 70/100\n",
      "8/8 [==============================] - 0s 625us/step - loss: 405.9442\n",
      "Epoch 71/100\n",
      "8/8 [==============================] - 0s 688us/step - loss: 391.4871\n",
      "Epoch 72/100\n",
      "8/8 [==============================] - 0s 562us/step - loss: 379.6876\n",
      "Epoch 73/100\n",
      "8/8 [==============================] - 0s 563us/step - loss: 354.1384\n",
      "Epoch 74/100\n",
      "8/8 [==============================] - 0s 813us/step - loss: 333.3852\n",
      "Epoch 75/100\n",
      "8/8 [==============================] - 0s 563us/step - loss: 307.8349\n",
      "Epoch 76/100\n",
      "8/8 [==============================] - 0s 563us/step - loss: 286.4826\n",
      "Epoch 77/100\n",
      "8/8 [==============================] - 0s 500us/step - loss: 260.0137\n",
      "Epoch 78/100\n",
      "8/8 [==============================] - 0s 563us/step - loss: 246.2309\n",
      "Epoch 79/100\n",
      "8/8 [==============================] - 0s 625us/step - loss: 237.1429\n",
      "Epoch 80/100\n",
      "8/8 [==============================] - 0s 563us/step - loss: 231.1546\n",
      "Epoch 81/100\n",
      "8/8 [==============================] - 0s 563us/step - loss: 226.5730\n",
      "Epoch 82/100\n",
      "8/8 [==============================] - 0s 563us/step - loss: 223.2873\n",
      "Epoch 83/100\n",
      "8/8 [==============================] - 0s 563us/step - loss: 222.4585\n",
      "Epoch 84/100\n",
      "8/8 [==============================] - 0s 563us/step - loss: 216.4297\n",
      "Epoch 85/100\n",
      "8/8 [==============================] - 0s 563us/step - loss: 213.6240\n",
      "Epoch 86/100\n",
      "8/8 [==============================] - 0s 563us/step - loss: 211.7884\n",
      "Epoch 87/100\n",
      "8/8 [==============================] - 0s 562us/step - loss: 210.8155\n",
      "Epoch 88/100\n",
      "8/8 [==============================] - 0s 473us/step - loss: 206.3177\n",
      "Epoch 89/100\n",
      "8/8 [==============================] - 0s 563us/step - loss: 204.2264\n",
      "Epoch 90/100\n",
      "8/8 [==============================] - 0s 563us/step - loss: 201.2565\n",
      "Epoch 91/100\n",
      "8/8 [==============================] - 0s 563us/step - loss: 200.2529\n",
      "Epoch 92/100\n",
      "8/8 [==============================] - ETA: 0s - loss: 213.578 - 0s 625us/step - loss: 200.4786\n",
      "Epoch 93/100\n",
      "8/8 [==============================] - 0s 625us/step - loss: 199.4207\n",
      "Epoch 94/100\n",
      "8/8 [==============================] - 0s 563us/step - loss: 194.4505\n",
      "Epoch 95/100\n",
      "8/8 [==============================] - 0s 625us/step - loss: 196.9298\n",
      "Epoch 96/100\n",
      "8/8 [==============================] - 0s 563us/step - loss: 193.8605\n",
      "Epoch 97/100\n",
      "8/8 [==============================] - 0s 563us/step - loss: 181.6736\n",
      "Epoch 98/100\n",
      "8/8 [==============================] - 0s 625us/step - loss: 180.1667\n",
      "Epoch 99/100\n",
      "8/8 [==============================] - 0s 563us/step - loss: 177.5027\n",
      "Epoch 100/100\n",
      "8/8 [==============================] - 0s 500us/step - loss: 171.9983\n",
      "32/32 [==============================] - 0s 391us/step - loss: 168.9276\n"
     ]
    },
    {
     "data": {
      "text/plain": [
       "168.92762756347656"
      ]
     },
     "execution_count": 13,
     "metadata": {},
     "output_type": "execute_result"
    }
   ],
   "source": [
    "model.fit(X_train, y_train, epochs=100, batch_size=128)\n",
    "\n",
    "model.evaluate(X_train, y_train)"
   ]
  },
  {
   "cell_type": "code",
   "execution_count": null,
   "metadata": {},
   "outputs": [],
   "source": []
  }
 ],
 "metadata": {
  "kernelspec": {
   "display_name": "Python 3",
   "language": "python",
   "name": "python3"
  },
  "language_info": {
   "codemirror_mode": {
    "name": "ipython",
    "version": 3
   },
   "file_extension": ".py",
   "mimetype": "text/x-python",
   "name": "python",
   "nbconvert_exporter": "python",
   "pygments_lexer": "ipython3",
   "version": "3.8.3"
  }
 },
 "nbformat": 4,
 "nbformat_minor": 4
}
