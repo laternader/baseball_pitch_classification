{
 "cells": [
  {
   "cell_type": "code",
   "execution_count": 43,
   "metadata": {},
   "outputs": [],
   "source": [
    "import pandas as pd \n",
    "import numpy as np\n",
    "import seaborn as sns \n",
    "import matplotlib.pyplot as plt\n",
    "\n",
    "from keras.models import Sequential, Model\n",
    "from keras import layers\n",
    "from keras import Input\n",
    "\n",
    "from sklearn.preprocessing import LabelEncoder"
   ]
  },
  {
   "cell_type": "code",
   "execution_count": 5,
   "metadata": {},
   "outputs": [
    {
     "data": {
      "text/plain": [
       "Index(['game_date', 'pitch_type', 'Pitcher_name', 'pitcher_id', 'batter_name',\n",
       "       'batter_id', 'release_speed', 'release_pos_x', 'release_pos_z', 'stand',\n",
       "       'p_throws', 'balls', 'strikes', 'pfx_x', 'pfx_z', 'plate_x', 'plate_z',\n",
       "       'on_3b', 'on_2b', 'on_1b', 'inning', 'inning_topbot', 'effective_speed',\n",
       "       'release_spin_rate', 'release_extension', 'Catcher', 'FirstBasemen',\n",
       "       'SecondBasemen', 'ThirdBasemen', 'ShortStop', 'LeftField',\n",
       "       'CenterField', 'RightField', 'at_bat_number', 'pitch_number',\n",
       "       'pitch_name', 'bat_score', 'fld_score', 'post_bat_score',\n",
       "       'post_fld_score', 'if_fielding_alignment', 'of_fielding_alignment',\n",
       "       'count', 'strike_attempt', 'events', 'description', 'type', 'bb_type',\n",
       "       'vx0', 'vy0', 'vz0', 'ax', 'ay', 'az', 'outs_when_up'],\n",
       "      dtype='object')"
      ]
     },
     "execution_count": 5,
     "metadata": {},
     "output_type": "execute_result"
    }
   ],
   "source": [
    "mlb20 = pd.read_csv('data/2020cleaned.csv')\n",
    "\n",
    "mlb20.columns"
   ]
  },
  {
   "cell_type": "code",
   "execution_count": 3,
   "metadata": {},
   "outputs": [
    {
     "data": {
      "text/html": [
       "<div>\n",
       "<style scoped>\n",
       "    .dataframe tbody tr th:only-of-type {\n",
       "        vertical-align: middle;\n",
       "    }\n",
       "\n",
       "    .dataframe tbody tr th {\n",
       "        vertical-align: top;\n",
       "    }\n",
       "\n",
       "    .dataframe thead th {\n",
       "        text-align: right;\n",
       "    }\n",
       "</style>\n",
       "<table border=\"1\" class=\"dataframe\">\n",
       "  <thead>\n",
       "    <tr style=\"text-align: right;\">\n",
       "      <th></th>\n",
       "      <th>game_date</th>\n",
       "      <th>pitch_type</th>\n",
       "      <th>Pitcher_name</th>\n",
       "      <th>pitcher_id</th>\n",
       "      <th>batter_name</th>\n",
       "      <th>batter_id</th>\n",
       "      <th>release_speed</th>\n",
       "      <th>release_pos_x</th>\n",
       "      <th>release_pos_z</th>\n",
       "      <th>stand</th>\n",
       "      <th>...</th>\n",
       "      <th>description</th>\n",
       "      <th>type</th>\n",
       "      <th>bb_type</th>\n",
       "      <th>vx0</th>\n",
       "      <th>vy0</th>\n",
       "      <th>vz0</th>\n",
       "      <th>ax</th>\n",
       "      <th>ay</th>\n",
       "      <th>az</th>\n",
       "      <th>outs_when_up</th>\n",
       "    </tr>\n",
       "  </thead>\n",
       "  <tbody>\n",
       "    <tr>\n",
       "      <th>0</th>\n",
       "      <td>2020-10-27</td>\n",
       "      <td>FF</td>\n",
       "      <td>Julio Urias</td>\n",
       "      <td>628711</td>\n",
       "      <td>Willy Adames</td>\n",
       "      <td>642715</td>\n",
       "      <td>96.7</td>\n",
       "      <td>1.58</td>\n",
       "      <td>5.99</td>\n",
       "      <td>1</td>\n",
       "      <td>...</td>\n",
       "      <td>called_strike</td>\n",
       "      <td>S</td>\n",
       "      <td>NaN</td>\n",
       "      <td>-5.950264</td>\n",
       "      <td>-140.490456</td>\n",
       "      <td>-7.897391</td>\n",
       "      <td>3.772000</td>\n",
       "      <td>32.321911</td>\n",
       "      <td>-8.981441</td>\n",
       "      <td>2</td>\n",
       "    </tr>\n",
       "    <tr>\n",
       "      <th>1</th>\n",
       "      <td>2020-10-27</td>\n",
       "      <td>FF</td>\n",
       "      <td>Julio Urias</td>\n",
       "      <td>628711</td>\n",
       "      <td>Willy Adames</td>\n",
       "      <td>642715</td>\n",
       "      <td>94.1</td>\n",
       "      <td>2.91</td>\n",
       "      <td>5.45</td>\n",
       "      <td>1</td>\n",
       "      <td>...</td>\n",
       "      <td>called_strike</td>\n",
       "      <td>S</td>\n",
       "      <td>NaN</td>\n",
       "      <td>-10.560246</td>\n",
       "      <td>-136.599519</td>\n",
       "      <td>-3.429867</td>\n",
       "      <td>11.723598</td>\n",
       "      <td>29.183810</td>\n",
       "      <td>-15.237217</td>\n",
       "      <td>2</td>\n",
       "    </tr>\n",
       "    <tr>\n",
       "      <th>2</th>\n",
       "      <td>2020-10-27</td>\n",
       "      <td>FF</td>\n",
       "      <td>Julio Urias</td>\n",
       "      <td>628711</td>\n",
       "      <td>Willy Adames</td>\n",
       "      <td>642715</td>\n",
       "      <td>94.9</td>\n",
       "      <td>1.77</td>\n",
       "      <td>6.02</td>\n",
       "      <td>1</td>\n",
       "      <td>...</td>\n",
       "      <td>swinging_strike</td>\n",
       "      <td>S</td>\n",
       "      <td>NaN</td>\n",
       "      <td>-5.199252</td>\n",
       "      <td>-138.098234</td>\n",
       "      <td>-4.637970</td>\n",
       "      <td>4.158758</td>\n",
       "      <td>30.838499</td>\n",
       "      <td>-12.535677</td>\n",
       "      <td>2</td>\n",
       "    </tr>\n",
       "    <tr>\n",
       "      <th>3</th>\n",
       "      <td>2020-10-27</td>\n",
       "      <td>FF</td>\n",
       "      <td>Julio Urias</td>\n",
       "      <td>628711</td>\n",
       "      <td>Mike Brosseau</td>\n",
       "      <td>670712</td>\n",
       "      <td>94.4</td>\n",
       "      <td>1.66</td>\n",
       "      <td>5.93</td>\n",
       "      <td>1</td>\n",
       "      <td>...</td>\n",
       "      <td>called_strike</td>\n",
       "      <td>S</td>\n",
       "      <td>NaN</td>\n",
       "      <td>-5.843595</td>\n",
       "      <td>-137.294295</td>\n",
       "      <td>-7.414897</td>\n",
       "      <td>4.754147</td>\n",
       "      <td>30.016237</td>\n",
       "      <td>-11.778755</td>\n",
       "      <td>1</td>\n",
       "    </tr>\n",
       "    <tr>\n",
       "      <th>4</th>\n",
       "      <td>2020-10-27</td>\n",
       "      <td>CU</td>\n",
       "      <td>Julio Urias</td>\n",
       "      <td>628711</td>\n",
       "      <td>Mike Brosseau</td>\n",
       "      <td>670712</td>\n",
       "      <td>81.4</td>\n",
       "      <td>1.46</td>\n",
       "      <td>6.06</td>\n",
       "      <td>1</td>\n",
       "      <td>...</td>\n",
       "      <td>ball</td>\n",
       "      <td>B</td>\n",
       "      <td>NaN</td>\n",
       "      <td>-0.383207</td>\n",
       "      <td>-118.447810</td>\n",
       "      <td>-4.454166</td>\n",
       "      <td>-15.553576</td>\n",
       "      <td>24.451936</td>\n",
       "      <td>-32.892744</td>\n",
       "      <td>1</td>\n",
       "    </tr>\n",
       "  </tbody>\n",
       "</table>\n",
       "<p>5 rows × 55 columns</p>\n",
       "</div>"
      ],
      "text/plain": [
       "    game_date pitch_type Pitcher_name  pitcher_id    batter_name  batter_id  \\\n",
       "0  2020-10-27         FF  Julio Urias      628711   Willy Adames     642715   \n",
       "1  2020-10-27         FF  Julio Urias      628711   Willy Adames     642715   \n",
       "2  2020-10-27         FF  Julio Urias      628711   Willy Adames     642715   \n",
       "3  2020-10-27         FF  Julio Urias      628711  Mike Brosseau     670712   \n",
       "4  2020-10-27         CU  Julio Urias      628711  Mike Brosseau     670712   \n",
       "\n",
       "   release_speed  release_pos_x  release_pos_z  stand  ...      description  \\\n",
       "0           96.7           1.58           5.99      1  ...    called_strike   \n",
       "1           94.1           2.91           5.45      1  ...    called_strike   \n",
       "2           94.9           1.77           6.02      1  ...  swinging_strike   \n",
       "3           94.4           1.66           5.93      1  ...    called_strike   \n",
       "4           81.4           1.46           6.06      1  ...             ball   \n",
       "\n",
       "   type  bb_type        vx0         vy0       vz0         ax         ay  \\\n",
       "0     S      NaN  -5.950264 -140.490456 -7.897391   3.772000  32.321911   \n",
       "1     S      NaN -10.560246 -136.599519 -3.429867  11.723598  29.183810   \n",
       "2     S      NaN  -5.199252 -138.098234 -4.637970   4.158758  30.838499   \n",
       "3     S      NaN  -5.843595 -137.294295 -7.414897   4.754147  30.016237   \n",
       "4     B      NaN  -0.383207 -118.447810 -4.454166 -15.553576  24.451936   \n",
       "\n",
       "          az  outs_when_up  \n",
       "0  -8.981441             2  \n",
       "1 -15.237217             2  \n",
       "2 -12.535677             2  \n",
       "3 -11.778755             1  \n",
       "4 -32.892744             1  \n",
       "\n",
       "[5 rows x 55 columns]"
      ]
     },
     "execution_count": 3,
     "metadata": {},
     "output_type": "execute_result"
    }
   ],
   "source": [
    "mlb20.head()"
   ]
  },
  {
   "cell_type": "code",
   "execution_count": 7,
   "metadata": {
    "scrolled": true
   },
   "outputs": [
    {
     "data": {
      "text/plain": [
       "game_date                     0\n",
       "pitch_type                    0\n",
       "Pitcher_name                  0\n",
       "pitcher_id                    0\n",
       "batter_name                   0\n",
       "batter_id                     0\n",
       "release_speed                 0\n",
       "release_pos_x                 0\n",
       "release_pos_z                 0\n",
       "stand                         0\n",
       "p_throws                      0\n",
       "balls                         0\n",
       "strikes                       0\n",
       "pfx_x                         0\n",
       "pfx_z                         0\n",
       "plate_x                       0\n",
       "plate_z                       0\n",
       "on_3b                         0\n",
       "on_2b                         0\n",
       "on_1b                         0\n",
       "inning                        0\n",
       "inning_topbot                 0\n",
       "effective_speed               0\n",
       "release_spin_rate           346\n",
       "release_extension           587\n",
       "Catcher                       0\n",
       "FirstBasemen                  0\n",
       "SecondBasemen                 0\n",
       "ThirdBasemen                  0\n",
       "ShortStop                     0\n",
       "LeftField                     0\n",
       "CenterField                   0\n",
       "RightField                    0\n",
       "at_bat_number                 0\n",
       "pitch_number                  0\n",
       "pitch_name                    0\n",
       "bat_score                     0\n",
       "fld_score                     0\n",
       "post_bat_score                0\n",
       "post_fld_score                0\n",
       "if_fielding_alignment         0\n",
       "of_fielding_alignment         0\n",
       "count                         0\n",
       "strike_attempt                0\n",
       "events                   209216\n",
       "description                   0\n",
       "type                          0\n",
       "bb_type                  233135\n",
       "vx0                           0\n",
       "vy0                           0\n",
       "vz0                           0\n",
       "ax                            0\n",
       "ay                            0\n",
       "az                            0\n",
       "outs_when_up                  0\n",
       "dtype: int64"
      ]
     },
     "execution_count": 7,
     "metadata": {},
     "output_type": "execute_result"
    }
   ],
   "source": [
    "mlb20 = mlb20[mlb20['release_speed'].notnull()]\n",
    "mlb20.isnull().sum()"
   ]
  },
  {
   "cell_type": "code",
   "execution_count": 57,
   "metadata": {},
   "outputs": [],
   "source": [
    "# Selecting branches for multi input\n",
    "pitch_selection_branch = mlb20['pitch_name']\n",
    "pitcher_coordinate_branch = mlb20[['release_speed', 'release_pos_x', 'release_pos_z', 'p_throws']]\n",
    "plate_coordinate_branch = mlb20[['pfx_x', 'pfx_z', 'plate_x', 'plate_z']]\n",
    "score_branch = mlb20[['bat_score', 'fld_score']]\n",
    "align_branch = mlb20[['if_fielding_alignment', 'of_fielding_alignment']]\n",
    "target = mlb20[['strike_attempt']]"
   ]
  },
  {
   "cell_type": "code",
   "execution_count": 59,
   "metadata": {},
   "outputs": [
    {
     "name": "stderr",
     "output_type": "stream",
     "text": [
      "C:\\Users\\ncesm\\anaconda3\\envs\\capstone\\lib\\site-packages\\sklearn\\utils\\validation.py:73: DataConversionWarning: A column-vector y was passed when a 1d array was expected. Please change the shape of y to (n_samples, ), for example using ravel().\n",
      "  return f(**kwargs)\n"
     ]
    }
   ],
   "source": [
    "le = LabelEncoder().fit(target)\n",
    "target20 = le.transform(target)"
   ]
  },
  {
   "cell_type": "code",
   "execution_count": 60,
   "metadata": {
    "scrolled": true
   },
   "outputs": [
    {
     "data": {
      "text/plain": [
       "LabelEncoder()"
      ]
     },
     "execution_count": 60,
     "metadata": {},
     "output_type": "execute_result"
    }
   ],
   "source": [
    "le"
   ]
  },
  {
   "cell_type": "code",
   "execution_count": 16,
   "metadata": {
    "collapsed": true
   },
   "outputs": [
    {
     "data": {
      "text/html": [
       "<div>\n",
       "<style scoped>\n",
       "    .dataframe tbody tr th:only-of-type {\n",
       "        vertical-align: middle;\n",
       "    }\n",
       "\n",
       "    .dataframe tbody tr th {\n",
       "        vertical-align: top;\n",
       "    }\n",
       "\n",
       "    .dataframe thead th {\n",
       "        text-align: right;\n",
       "    }\n",
       "</style>\n",
       "<table border=\"1\" class=\"dataframe\">\n",
       "  <thead>\n",
       "    <tr style=\"text-align: right;\">\n",
       "      <th></th>\n",
       "      <th>release_speed</th>\n",
       "      <th>release_pos_x</th>\n",
       "      <th>release_pos_z</th>\n",
       "      <th>p_throws</th>\n",
       "    </tr>\n",
       "  </thead>\n",
       "  <tbody>\n",
       "    <tr>\n",
       "      <th>0</th>\n",
       "      <td>96.7</td>\n",
       "      <td>1.58</td>\n",
       "      <td>5.99</td>\n",
       "      <td>0</td>\n",
       "    </tr>\n",
       "    <tr>\n",
       "      <th>1</th>\n",
       "      <td>94.1</td>\n",
       "      <td>2.91</td>\n",
       "      <td>5.45</td>\n",
       "      <td>0</td>\n",
       "    </tr>\n",
       "    <tr>\n",
       "      <th>2</th>\n",
       "      <td>94.9</td>\n",
       "      <td>1.77</td>\n",
       "      <td>6.02</td>\n",
       "      <td>0</td>\n",
       "    </tr>\n",
       "    <tr>\n",
       "      <th>3</th>\n",
       "      <td>94.4</td>\n",
       "      <td>1.66</td>\n",
       "      <td>5.93</td>\n",
       "      <td>0</td>\n",
       "    </tr>\n",
       "    <tr>\n",
       "      <th>4</th>\n",
       "      <td>81.4</td>\n",
       "      <td>1.46</td>\n",
       "      <td>6.06</td>\n",
       "      <td>0</td>\n",
       "    </tr>\n",
       "  </tbody>\n",
       "</table>\n",
       "</div>"
      ],
      "text/plain": [
       "   release_speed  release_pos_x  release_pos_z  p_throws\n",
       "0           96.7           1.58           5.99         0\n",
       "1           94.1           2.91           5.45         0\n",
       "2           94.9           1.77           6.02         0\n",
       "3           94.4           1.66           5.93         0\n",
       "4           81.4           1.46           6.06         0"
      ]
     },
     "execution_count": 16,
     "metadata": {},
     "output_type": "execute_result"
    }
   ],
   "source": [
    "pitcher_coordinate_branch.head()"
   ]
  },
  {
   "cell_type": "code",
   "execution_count": 17,
   "metadata": {
    "collapsed": true
   },
   "outputs": [
    {
     "data": {
      "text/html": [
       "<div>\n",
       "<style scoped>\n",
       "    .dataframe tbody tr th:only-of-type {\n",
       "        vertical-align: middle;\n",
       "    }\n",
       "\n",
       "    .dataframe tbody tr th {\n",
       "        vertical-align: top;\n",
       "    }\n",
       "\n",
       "    .dataframe thead th {\n",
       "        text-align: right;\n",
       "    }\n",
       "</style>\n",
       "<table border=\"1\" class=\"dataframe\">\n",
       "  <thead>\n",
       "    <tr style=\"text-align: right;\">\n",
       "      <th></th>\n",
       "      <th>pfx_x</th>\n",
       "      <th>pfx_z</th>\n",
       "      <th>plate_x</th>\n",
       "      <th>plate_z</th>\n",
       "    </tr>\n",
       "  </thead>\n",
       "  <tbody>\n",
       "    <tr>\n",
       "      <th>0</th>\n",
       "      <td>0.2</td>\n",
       "      <td>1.6</td>\n",
       "      <td>-0.53</td>\n",
       "      <td>2.29</td>\n",
       "    </tr>\n",
       "    <tr>\n",
       "      <th>1</th>\n",
       "      <td>0.8</td>\n",
       "      <td>1.3</td>\n",
       "      <td>-0.55</td>\n",
       "      <td>3.03</td>\n",
       "    </tr>\n",
       "    <tr>\n",
       "      <th>2</th>\n",
       "      <td>0.2</td>\n",
       "      <td>1.5</td>\n",
       "      <td>-0.04</td>\n",
       "      <td>3.32</td>\n",
       "    </tr>\n",
       "    <tr>\n",
       "      <th>3</th>\n",
       "      <td>0.3</td>\n",
       "      <td>1.5</td>\n",
       "      <td>-0.37</td>\n",
       "      <td>2.15</td>\n",
       "    </tr>\n",
       "    <tr>\n",
       "      <th>4</th>\n",
       "      <td>-1.7</td>\n",
       "      <td>-0.2</td>\n",
       "      <td>-0.14</td>\n",
       "      <td>0.96</td>\n",
       "    </tr>\n",
       "  </tbody>\n",
       "</table>\n",
       "</div>"
      ],
      "text/plain": [
       "   pfx_x  pfx_z  plate_x  plate_z\n",
       "0    0.2    1.6    -0.53     2.29\n",
       "1    0.8    1.3    -0.55     3.03\n",
       "2    0.2    1.5    -0.04     3.32\n",
       "3    0.3    1.5    -0.37     2.15\n",
       "4   -1.7   -0.2    -0.14     0.96"
      ]
     },
     "execution_count": 17,
     "metadata": {},
     "output_type": "execute_result"
    }
   ],
   "source": [
    "plate_coordinate_branch.head()"
   ]
  },
  {
   "cell_type": "code",
   "execution_count": 18,
   "metadata": {
    "collapsed": true
   },
   "outputs": [
    {
     "data": {
      "text/html": [
       "<div>\n",
       "<style scoped>\n",
       "    .dataframe tbody tr th:only-of-type {\n",
       "        vertical-align: middle;\n",
       "    }\n",
       "\n",
       "    .dataframe tbody tr th {\n",
       "        vertical-align: top;\n",
       "    }\n",
       "\n",
       "    .dataframe thead th {\n",
       "        text-align: right;\n",
       "    }\n",
       "</style>\n",
       "<table border=\"1\" class=\"dataframe\">\n",
       "  <thead>\n",
       "    <tr style=\"text-align: right;\">\n",
       "      <th></th>\n",
       "      <th>bat_score</th>\n",
       "      <th>fld_score</th>\n",
       "    </tr>\n",
       "  </thead>\n",
       "  <tbody>\n",
       "    <tr>\n",
       "      <th>0</th>\n",
       "      <td>1</td>\n",
       "      <td>3</td>\n",
       "    </tr>\n",
       "    <tr>\n",
       "      <th>1</th>\n",
       "      <td>1</td>\n",
       "      <td>3</td>\n",
       "    </tr>\n",
       "    <tr>\n",
       "      <th>2</th>\n",
       "      <td>1</td>\n",
       "      <td>3</td>\n",
       "    </tr>\n",
       "    <tr>\n",
       "      <th>3</th>\n",
       "      <td>1</td>\n",
       "      <td>3</td>\n",
       "    </tr>\n",
       "    <tr>\n",
       "      <th>4</th>\n",
       "      <td>1</td>\n",
       "      <td>3</td>\n",
       "    </tr>\n",
       "  </tbody>\n",
       "</table>\n",
       "</div>"
      ],
      "text/plain": [
       "   bat_score  fld_score\n",
       "0          1          3\n",
       "1          1          3\n",
       "2          1          3\n",
       "3          1          3\n",
       "4          1          3"
      ]
     },
     "execution_count": 18,
     "metadata": {},
     "output_type": "execute_result"
    }
   ],
   "source": [
    "score_branch.head()"
   ]
  },
  {
   "cell_type": "code",
   "execution_count": 63,
   "metadata": {},
   "outputs": [
    {
     "data": {
      "text/plain": [
       "(279652, 4)"
      ]
     },
     "execution_count": 63,
     "metadata": {},
     "output_type": "execute_result"
    }
   ],
   "source": [
    "pitcher_coordinate_branch.shape"
   ]
  },
  {
   "cell_type": "code",
   "execution_count": 64,
   "metadata": {},
   "outputs": [
    {
     "data": {
      "text/plain": [
       "(279652, 4)"
      ]
     },
     "execution_count": 64,
     "metadata": {},
     "output_type": "execute_result"
    }
   ],
   "source": [
    "plate_coordinate_branch.shape"
   ]
  },
  {
   "cell_type": "markdown",
   "metadata": {},
   "source": [
    "## Training on 2020 Season"
   ]
  },
  {
   "cell_type": "code",
   "execution_count": 78,
   "metadata": {},
   "outputs": [],
   "source": [
    "# model = Sequential()\n",
    "\n",
    "release_input = Input(shape=(None,4),name='pitcher_coordinates')\n",
    "plate_input = Input(shape=(None,4),name='plate_coordinates')\n",
    "\n",
    "concatenated = layers.concatenate([release_input, plate_input])\n",
    "\n",
    "aim = layers.Dense(1, activation='softmax')(concatenated) # Answer between 'strike','out','ball','ob'\n",
    "\n",
    "model = Model([release_input, plate_input], aim)\n",
    "model.compile(optimizer='adam',\n",
    "              loss=['mse','categorical_crossentropy'],\n",
    "              metrics=['acc'])"
   ]
  },
  {
   "cell_type": "markdown",
   "metadata": {},
   "source": [
    "## Testing on 2019 season"
   ]
  },
  {
   "cell_type": "code",
   "execution_count": 79,
   "metadata": {
    "scrolled": false
   },
   "outputs": [
    {
     "name": "stdout",
     "output_type": "stream",
     "text": [
      "Epoch 1/10\n",
      "WARNING:tensorflow:Model was constructed with shape (None, None, 4) for input Tensor(\"pitcher_coordinates_14:0\", shape=(None, None, 4), dtype=float32), but it was called on an input with incompatible shape (None, 4).\n",
      "WARNING:tensorflow:Model was constructed with shape (None, None, 4) for input Tensor(\"plate_coordinates_14:0\", shape=(None, None, 4), dtype=float32), but it was called on an input with incompatible shape (None, 4).\n",
      "WARNING:tensorflow:Model was constructed with shape (None, None, 4) for input Tensor(\"pitcher_coordinates_14:0\", shape=(None, None, 4), dtype=float32), but it was called on an input with incompatible shape (None, 4).\n",
      "WARNING:tensorflow:Model was constructed with shape (None, None, 4) for input Tensor(\"plate_coordinates_14:0\", shape=(None, None, 4), dtype=float32), but it was called on an input with incompatible shape (None, 4).\n",
      "5765/5765 [==============================] - 2s 422us/step - loss: nan - acc: 0.3570\n",
      "Epoch 2/10\n",
      "5765/5765 [==============================] - 2s 418us/step - loss: nan - acc: 0.3599\n",
      "Epoch 3/10\n",
      "5765/5765 [==============================] - 2s 418us/step - loss: nan - acc: 0.3599\n",
      "Epoch 4/10\n",
      "5765/5765 [==============================] - 2s 411us/step - loss: nan - acc: 0.3599\n",
      "Epoch 5/10\n",
      "5765/5765 [==============================] - 2s 421us/step - loss: nan - acc: 0.3599\n",
      "Epoch 6/10\n",
      "5765/5765 [==============================] - 2s 430us/step - loss: nan - acc: 0.3599\n",
      "Epoch 7/10\n",
      "5765/5765 [==============================] - 2s 419us/step - loss: nan - acc: 0.3599\n",
      "Epoch 8/10\n",
      "5765/5765 [==============================] - 2s 413us/step - loss: nan - acc: 0.3599\n",
      "Epoch 9/10\n",
      "5765/5765 [==============================] - 2s 410us/step - loss: nan - acc: 0.3599\n",
      "Epoch 10/10\n",
      "5765/5765 [==============================] - 2s 410us/step - loss: nan - acc: 0.3599\n"
     ]
    }
   ],
   "source": [
    "hist = model.fit({'pitcher_coordinates':pitcher_coordinate_branch19, 'plate_coordinates':plate_coordinate_branch19},\n",
    "                 target19_encoded, # does this need to be one hot encoded\n",
    "                 epochs=10, batch_size=128)"
   ]
  },
  {
   "cell_type": "code",
   "execution_count": 80,
   "metadata": {},
   "outputs": [
    {
     "data": {
      "text/plain": [
       "{'loss': [nan, nan, nan, nan, nan, nan, nan, nan, nan, nan],\n",
       " 'acc': [0.35695531964302063,\n",
       "  0.3598869740962982,\n",
       "  0.3598869740962982,\n",
       "  0.3598869740962982,\n",
       "  0.3598869740962982,\n",
       "  0.3598869740962982,\n",
       "  0.3598869740962982,\n",
       "  0.3598869740962982,\n",
       "  0.3598869740962982,\n",
       "  0.3598869740962982]}"
      ]
     },
     "execution_count": 80,
     "metadata": {},
     "output_type": "execute_result"
    }
   ],
   "source": [
    "hist.history"
   ]
  },
  {
   "cell_type": "code",
   "execution_count": 81,
   "metadata": {},
   "outputs": [
    {
     "data": {
      "text/plain": [
       "[<matplotlib.lines.Line2D at 0x1e2dbf36d30>]"
      ]
     },
     "execution_count": 81,
     "metadata": {},
     "output_type": "execute_result"
    },
    {
     "data": {
      "image/png": "[encoded data removed]",
      "text/plain": [
       "<Figure size 432x288 with 1 Axes>"
      ]
     },
     "metadata": {
      "needs_background": "light"
     },
     "output_type": "display_data"
    }
   ],
   "source": [
    "# Check how 2020 data did against 2019 data\n",
    "plt.plot(hist.epoch, hist.history['acc'], c='orange')\n",
    "plt.plot(hist.epoch, hist.history['loss'], c='b')"
   ]
  },
  {
   "cell_type": "code",
   "execution_count": 40,
   "metadata": {
    "collapsed": true
   },
   "outputs": [
    {
     "data": {
      "text/plain": [
       "game_date                     0\n",
       "pitch_type                    0\n",
       "Pitcher_name                  0\n",
       "pitcher_id                    0\n",
       "batter_name                   0\n",
       "batter_id                     0\n",
       "release_speed                 2\n",
       "release_pos_x                 0\n",
       "release_pos_z                 0\n",
       "stand                         0\n",
       "p_throws                      0\n",
       "balls                         0\n",
       "strikes                       0\n",
       "pfx_x                         0\n",
       "pfx_z                         0\n",
       "plate_x                       0\n",
       "plate_z                       0\n",
       "on_3b                         0\n",
       "on_2b                         0\n",
       "on_1b                         0\n",
       "inning                        0\n",
       "inning_topbot                 0\n",
       "effective_speed               2\n",
       "release_spin_rate         12807\n",
       "release_extension             2\n",
       "Catcher                       0\n",
       "FirstBasemen                  0\n",
       "SecondBasemen                 0\n",
       "ThirdBasemen                  0\n",
       "ShortStop                     0\n",
       "LeftField                     0\n",
       "CenterField                   0\n",
       "RightField                    0\n",
       "at_bat_number                 0\n",
       "pitch_number                  0\n",
       "pitch_name                    0\n",
       "bat_score                     0\n",
       "fld_score                     0\n",
       "post_bat_score                0\n",
       "post_fld_score                0\n",
       "if_fielding_alignment         0\n",
       "of_fielding_alignment         0\n",
       "count                         0\n",
       "strike_attempt                0\n",
       "events                   550425\n",
       "description                   0\n",
       "type                          0\n",
       "bb_type                  611279\n",
       "vx0                           0\n",
       "vy0                           0\n",
       "vz0                           0\n",
       "ax                            0\n",
       "ay                            0\n",
       "az                            0\n",
       "outs_when_up                  0\n",
       "dtype: int64"
      ]
     },
     "execution_count": 40,
     "metadata": {},
     "output_type": "execute_result"
    }
   ],
   "source": [
    "mlb19 = pd.read_csv('data/2019cleaned.csv')\n",
    "mlb19.isnull().sum()"
   ]
  },
  {
   "cell_type": "code",
   "execution_count": 39,
   "metadata": {},
   "outputs": [],
   "source": [
    "mlb19 = mlb19[mlb19['release_pos_x'].notnull()]"
   ]
  },
  {
   "cell_type": "code",
   "execution_count": 41,
   "metadata": {},
   "outputs": [],
   "source": [
    "# Test begins here\n",
    "pitcher_coordinate_branch19 = mlb19[['release_speed', 'release_pos_x', 'release_pos_z', 'p_throws']]\n",
    "plate_coordinate_branch19 = mlb19[['pfx_x', 'pfx_z', 'plate_x', 'plate_z']]"
   ]
  },
  {
   "cell_type": "code",
   "execution_count": 71,
   "metadata": {
    "collapsed": true
   },
   "outputs": [
    {
     "data": {
      "text/html": [
       "<div>\n",
       "<style scoped>\n",
       "    .dataframe tbody tr th:only-of-type {\n",
       "        vertical-align: middle;\n",
       "    }\n",
       "\n",
       "    .dataframe tbody tr th {\n",
       "        vertical-align: top;\n",
       "    }\n",
       "\n",
       "    .dataframe thead th {\n",
       "        text-align: right;\n",
       "    }\n",
       "</style>\n",
       "<table border=\"1\" class=\"dataframe\">\n",
       "  <thead>\n",
       "    <tr style=\"text-align: right;\">\n",
       "      <th></th>\n",
       "      <th>release_speed</th>\n",
       "      <th>release_pos_x</th>\n",
       "      <th>release_pos_z</th>\n",
       "      <th>p_throws</th>\n",
       "    </tr>\n",
       "  </thead>\n",
       "  <tbody>\n",
       "    <tr>\n",
       "      <th>0</th>\n",
       "      <td>87.9</td>\n",
       "      <td>-2.65</td>\n",
       "      <td>5.50</td>\n",
       "      <td>1</td>\n",
       "    </tr>\n",
       "    <tr>\n",
       "      <th>1</th>\n",
       "      <td>95.9</td>\n",
       "      <td>-2.77</td>\n",
       "      <td>5.52</td>\n",
       "      <td>1</td>\n",
       "    </tr>\n",
       "    <tr>\n",
       "      <th>2</th>\n",
       "      <td>96.5</td>\n",
       "      <td>-2.68</td>\n",
       "      <td>5.42</td>\n",
       "      <td>1</td>\n",
       "    </tr>\n",
       "    <tr>\n",
       "      <th>3</th>\n",
       "      <td>96.0</td>\n",
       "      <td>-2.65</td>\n",
       "      <td>5.55</td>\n",
       "      <td>1</td>\n",
       "    </tr>\n",
       "    <tr>\n",
       "      <th>4</th>\n",
       "      <td>86.7</td>\n",
       "      <td>-2.73</td>\n",
       "      <td>5.59</td>\n",
       "      <td>1</td>\n",
       "    </tr>\n",
       "  </tbody>\n",
       "</table>\n",
       "</div>"
      ],
      "text/plain": [
       "   release_speed  release_pos_x  release_pos_z  p_throws\n",
       "0           87.9          -2.65           5.50         1\n",
       "1           95.9          -2.77           5.52         1\n",
       "2           96.5          -2.68           5.42         1\n",
       "3           96.0          -2.65           5.55         1\n",
       "4           86.7          -2.73           5.59         1"
      ]
     },
     "execution_count": 71,
     "metadata": {},
     "output_type": "execute_result"
    }
   ],
   "source": [
    "pitcher_coordinate_branch19.head()"
   ]
  },
  {
   "cell_type": "code",
   "execution_count": 72,
   "metadata": {
    "collapsed": true
   },
   "outputs": [
    {
     "data": {
      "text/html": [
       "<div>\n",
       "<style scoped>\n",
       "    .dataframe tbody tr th:only-of-type {\n",
       "        vertical-align: middle;\n",
       "    }\n",
       "\n",
       "    .dataframe tbody tr th {\n",
       "        vertical-align: top;\n",
       "    }\n",
       "\n",
       "    .dataframe thead th {\n",
       "        text-align: right;\n",
       "    }\n",
       "</style>\n",
       "<table border=\"1\" class=\"dataframe\">\n",
       "  <thead>\n",
       "    <tr style=\"text-align: right;\">\n",
       "      <th></th>\n",
       "      <th>pfx_x</th>\n",
       "      <th>pfx_z</th>\n",
       "      <th>plate_x</th>\n",
       "      <th>plate_z</th>\n",
       "    </tr>\n",
       "  </thead>\n",
       "  <tbody>\n",
       "    <tr>\n",
       "      <th>0</th>\n",
       "      <td>0.0</td>\n",
       "      <td>0.2</td>\n",
       "      <td>0.88</td>\n",
       "      <td>1.03</td>\n",
       "    </tr>\n",
       "    <tr>\n",
       "      <th>1</th>\n",
       "      <td>-0.6</td>\n",
       "      <td>1.5</td>\n",
       "      <td>-0.47</td>\n",
       "      <td>1.92</td>\n",
       "    </tr>\n",
       "    <tr>\n",
       "      <th>2</th>\n",
       "      <td>-0.7</td>\n",
       "      <td>1.4</td>\n",
       "      <td>1.68</td>\n",
       "      <td>1.35</td>\n",
       "    </tr>\n",
       "    <tr>\n",
       "      <th>3</th>\n",
       "      <td>-0.8</td>\n",
       "      <td>1.5</td>\n",
       "      <td>0.75</td>\n",
       "      <td>2.05</td>\n",
       "    </tr>\n",
       "    <tr>\n",
       "      <th>4</th>\n",
       "      <td>-0.1</td>\n",
       "      <td>0.5</td>\n",
       "      <td>1.27</td>\n",
       "      <td>2.17</td>\n",
       "    </tr>\n",
       "  </tbody>\n",
       "</table>\n",
       "</div>"
      ],
      "text/plain": [
       "   pfx_x  pfx_z  plate_x  plate_z\n",
       "0    0.0    0.2     0.88     1.03\n",
       "1   -0.6    1.5    -0.47     1.92\n",
       "2   -0.7    1.4     1.68     1.35\n",
       "3   -0.8    1.5     0.75     2.05\n",
       "4   -0.1    0.5     1.27     2.17"
      ]
     },
     "execution_count": 72,
     "metadata": {},
     "output_type": "execute_result"
    }
   ],
   "source": [
    "plate_coordinate_branch19.head()"
   ]
  },
  {
   "cell_type": "code",
   "execution_count": 53,
   "metadata": {
    "collapsed": true
   },
   "outputs": [
    {
     "data": {
      "text/plain": [
       "0         strike\n",
       "1         strike\n",
       "2           ball\n",
       "3         strike\n",
       "4           ball\n",
       "           ...  \n",
       "742878    strike\n",
       "742879    strike\n",
       "742880    strike\n",
       "742881    strike\n",
       "742882       out\n",
       "Name: strike_attempt, Length: 737815, dtype: object"
      ]
     },
     "execution_count": 53,
     "metadata": {},
     "output_type": "execute_result"
    }
   ],
   "source": [
    "target19 = mlb19['strike_attempt']\n",
    "target19"
   ]
  },
  {
   "cell_type": "code",
   "execution_count": 61,
   "metadata": {},
   "outputs": [],
   "source": [
    "target19_encoded = le.transform(target19)"
   ]
  },
  {
   "cell_type": "code",
   "execution_count": null,
   "metadata": {},
   "outputs": [],
   "source": [
    "# Rachel tasks\n",
    "\n",
    "# Follow up with Rachel after Riley meeting\n",
    "# Reach out to one of the folks on Activision and ask for Informational Interview and talk about commonality of GA\n",
    "# Reach out to people in the cohort and ask about how they feeling or something or proactive and stuff, SIMP together"
   ]
  }
 ],
 "metadata": {
  "kernelspec": {
   "display_name": "Python 3",
   "language": "python",
   "name": "python3"
  },
  "language_info": {
   "codemirror_mode": {
    "name": "ipython",
    "version": 3
   },
   "file_extension": ".py",
   "mimetype": "text/x-python",
   "name": "python",
   "nbconvert_exporter": "python",
   "pygments_lexer": "ipython3",
   "version": "3.8.3"
  }
 },
 "nbformat": 4,
 "nbformat_minor": 4
}
