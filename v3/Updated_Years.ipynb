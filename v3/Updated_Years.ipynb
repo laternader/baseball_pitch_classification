{
 "cells": [
  {
   "cell_type": "markdown",
   "metadata": {},
   "source": [
    "# Let's Stay Up-to-Date!\n",
    "\n",
    "With the project completed during the end of 2020 and with COVID running rampant, altering the timeline of the season as well as turning MLB around, I feel like it is time to check and see if the umpires have gotten better since I last analyzed their performances."
   ]
  },
  {
   "cell_type": "code",
   "execution_count": 1,
   "metadata": {},
   "outputs": [],
   "source": [
    "# Imports\n",
    "import pandas as pd\n",
    "import numpy as np\n",
    "import matplotlib.pyplot as plt\n",
    "import seaborn as sns\n",
    "\n",
    "import pybaseball as pb\n",
    "from pybaseball import cache"
   ]
  },
  {
   "cell_type": "code",
   "execution_count": 2,
   "metadata": {},
   "outputs": [],
   "source": [
    "pd.set_option('display.max_columns', None)"
   ]
  },
  {
   "cell_type": "code",
   "execution_count": 3,
   "metadata": {},
   "outputs": [],
   "source": [
    "cache.enable()"
   ]
  },
  {
   "cell_type": "markdown",
   "metadata": {},
   "source": [
    "## Let's Retrieve New Data (and try to use the old one we already have)"
   ]
  },
  {
   "cell_type": "code",
   "execution_count": 4,
   "metadata": {
    "scrolled": true
   },
   "outputs": [
    {
     "name": "stdout",
     "output_type": "stream",
     "text": [
      "This is a large query, it may take a moment to complete\n",
      "Completed sub-query from 2021-04-01 to 2021-04-06\n",
      "Completed sub-query from 2021-04-07 to 2021-04-12\n",
      "Completed sub-query from 2021-04-13 to 2021-04-18\n",
      "Completed sub-query from 2021-04-19 to 2021-04-24\n",
      "Completed sub-query from 2021-04-25 to 2021-04-30\n",
      "Completed sub-query from 2021-05-01 to 2021-05-06\n",
      "Completed sub-query from 2021-05-07 to 2021-05-12\n",
      "Completed sub-query from 2021-05-13 to 2021-05-18\n",
      "Completed sub-query from 2021-05-19 to 2021-05-24\n",
      "Completed sub-query from 2021-05-25 to 2021-05-30\n",
      "Completed sub-query from 2021-05-31 to 2021-06-05\n",
      "Completed sub-query from 2021-06-06 to 2021-06-11\n",
      "Completed sub-query from 2021-06-12 to 2021-06-17\n",
      "Completed sub-query from 2021-06-18 to 2021-06-23\n",
      "Completed sub-query from 2021-06-24 to 2021-06-29\n",
      "Completed sub-query from 2021-06-30 to 2021-07-05\n",
      "Completed sub-query from 2021-07-06 to 2021-07-11\n",
      "Completed sub-query from 2021-07-12 to 2021-07-17\n",
      "Completed sub-query from 2021-07-18 to 2021-07-23\n",
      "Completed sub-query from 2021-07-24 to 2021-07-29\n",
      "Completed sub-query from 2021-07-30 to 2021-08-04\n",
      "Completed sub-query from 2021-08-05 to 2021-08-10\n",
      "Completed sub-query from 2021-08-11 to 2021-08-16\n",
      "Completed sub-query from 2021-08-17 to 2021-08-22\n",
      "Completed sub-query from 2021-08-23 to 2021-08-28\n",
      "Completed sub-query from 2021-08-29 to 2021-09-03\n",
      "Completed sub-query from 2021-09-04 to 2021-09-09\n",
      "Completed sub-query from 2021-09-10 to 2021-09-15\n",
      "Completed sub-query from 2021-09-16 to 2021-09-21\n",
      "Completed sub-query from 2021-09-22 to 2021-09-27\n",
      "Completed sub-query from 2021-09-28 to 2021-10-03\n",
      "Completed sub-query from 2021-10-04 to 2021-10-09\n",
      "Completed sub-query from 2021-10-10 to 2021-10-15\n",
      "Completed sub-query from 2021-10-16 to 2021-10-21\n",
      "Completed sub-query from 2021-10-22 to 2021-10-27\n",
      "Completed sub-query from 2021-10-28 to 2021-11-02\n",
      "Retrieval Complete\n"
     ]
    }
   ],
   "source": [
    "# The last data retrieved was the 2020 MLB season where the LA Dodgers won, now we have a new champion the Atlanta Braves\n",
    "# Previous data have already been saved in a different folder\n",
    "\n",
    "mlb2021 = pb.statcast(start_dt='2021-04-01', end_dt='2021-11-02')\n",
    "print('Retrieval Complete')"
   ]
  },
  {
   "cell_type": "code",
   "execution_count": 5,
   "metadata": {},
   "outputs": [],
   "source": [
    "# Save this to a csv file in case I need to recall it.\n",
    "mlb2021.to_csv('2021mlb.csv', index=False)"
   ]
  },
  {
   "cell_type": "code",
   "execution_count": null,
   "metadata": {},
   "outputs": [],
   "source": []
  }
 ],
 "metadata": {
  "kernelspec": {
   "display_name": "Python 3",
   "language": "python",
   "name": "python3"
  },
  "language_info": {
   "codemirror_mode": {
    "name": "ipython",
    "version": 3
   },
   "file_extension": ".py",
   "mimetype": "text/x-python",
   "name": "python",
   "nbconvert_exporter": "python",
   "pygments_lexer": "ipython3",
   "version": "3.8.3"
  }
 },
 "nbformat": 4,
 "nbformat_minor": 4
}
