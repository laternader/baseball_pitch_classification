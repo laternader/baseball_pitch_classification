{
 "cells": [
  {
   "cell_type": "markdown",
   "metadata": {},
   "source": [
    "# The Models\n",
    "\n",
    "---\n",
    "\n",
    "In an attempt to recreate the same models I executed back in December 2020, I will be utilizing the same packages in order to understand what my aim was for the project.\n",
    "\n",
    "This is to improve the final results I had before to see if my problem statement still holds true."
   ]
  },
  {
   "cell_type": "code",
   "execution_count": 47,
   "metadata": {},
   "outputs": [],
   "source": [
    "# Import Packages\n",
    "import pandas as pd\n",
    "import numpy as np\n",
    "import matplotlib.pyplot as plt\n",
    "\n",
    "pd.set_option('display.max_columns', None)\n",
    "\n",
    "from sklearn.linear_model import LogisticRegression\n",
    "from sklearn.svm import SVC, LinearSVC\n",
    "from sklearn.ensemble import RandomForestClassifier\n",
    "\n",
    "from xgboost import XGBRFClassifier, XGBClassifier\n",
    "from sklearn.metrics import plot_confusion_matrix, f1_score, roc_curve\n",
    "\n",
    "from sklearn.preprocessing import LabelEncoder, StandardScaler\n",
    "from sklearn.model_selection import RandomizedSearchCV, train_test_split, GridSearchCV\n",
    "from sklearn.pipeline import Pipeline\n",
    "from sklearn.metrics import accuracy_score, f1_score, classification_report\n",
    "\n",
    "import pickle"
   ]
  },
  {
   "cell_type": "code",
   "execution_count": 2,
   "metadata": {},
   "outputs": [],
   "source": [
    "df = pd.read_csv('train_test_2021.csv')"
   ]
  },
  {
   "cell_type": "code",
   "execution_count": 4,
   "metadata": {},
   "outputs": [
    {
     "data": {
      "text/html": [
       "<div>\n",
       "<style scoped>\n",
       "    .dataframe tbody tr th:only-of-type {\n",
       "        vertical-align: middle;\n",
       "    }\n",
       "\n",
       "    .dataframe tbody tr th {\n",
       "        vertical-align: top;\n",
       "    }\n",
       "\n",
       "    .dataframe thead th {\n",
       "        text-align: right;\n",
       "    }\n",
       "</style>\n",
       "<table border=\"1\" class=\"dataframe\">\n",
       "  <thead>\n",
       "    <tr style=\"text-align: right;\">\n",
       "      <th></th>\n",
       "      <th>release_speed</th>\n",
       "      <th>release_pos_x</th>\n",
       "      <th>release_pos_z</th>\n",
       "      <th>stand</th>\n",
       "      <th>p_throws</th>\n",
       "      <th>type</th>\n",
       "      <th>pfx_x</th>\n",
       "      <th>pfx_z</th>\n",
       "      <th>plate_x</th>\n",
       "      <th>plate_z</th>\n",
       "      <th>vx0</th>\n",
       "      <th>vy0</th>\n",
       "      <th>vz0</th>\n",
       "      <th>ax</th>\n",
       "      <th>ay</th>\n",
       "      <th>az</th>\n",
       "      <th>release_spin_rate</th>\n",
       "      <th>pitch_name</th>\n",
       "    </tr>\n",
       "  </thead>\n",
       "  <tbody>\n",
       "    <tr>\n",
       "      <th>0</th>\n",
       "      <td>93.1</td>\n",
       "      <td>1.35</td>\n",
       "      <td>6.73</td>\n",
       "      <td>R</td>\n",
       "      <td>L</td>\n",
       "      <td>S</td>\n",
       "      <td>0.81</td>\n",
       "      <td>1.52</td>\n",
       "      <td>0.78</td>\n",
       "      <td>2.13</td>\n",
       "      <td>-3.230974</td>\n",
       "      <td>-135.201801</td>\n",
       "      <td>-9.255781</td>\n",
       "      <td>10.678480</td>\n",
       "      <td>31.699974</td>\n",
       "      <td>-11.705800</td>\n",
       "      <td>2216.0</td>\n",
       "      <td>4-Seam Fastball</td>\n",
       "    </tr>\n",
       "    <tr>\n",
       "      <th>1</th>\n",
       "      <td>93.6</td>\n",
       "      <td>1.31</td>\n",
       "      <td>6.80</td>\n",
       "      <td>L</td>\n",
       "      <td>L</td>\n",
       "      <td>B</td>\n",
       "      <td>0.90</td>\n",
       "      <td>1.43</td>\n",
       "      <td>-1.15</td>\n",
       "      <td>1.51</td>\n",
       "      <td>-8.265487</td>\n",
       "      <td>-135.578023</td>\n",
       "      <td>-10.936295</td>\n",
       "      <td>12.932808</td>\n",
       "      <td>31.370147</td>\n",
       "      <td>-12.168466</td>\n",
       "      <td>2239.0</td>\n",
       "      <td>4-Seam Fastball</td>\n",
       "    </tr>\n",
       "    <tr>\n",
       "      <th>2</th>\n",
       "      <td>94.4</td>\n",
       "      <td>1.17</td>\n",
       "      <td>6.90</td>\n",
       "      <td>L</td>\n",
       "      <td>L</td>\n",
       "      <td>S</td>\n",
       "      <td>0.98</td>\n",
       "      <td>1.51</td>\n",
       "      <td>-0.51</td>\n",
       "      <td>1.94</td>\n",
       "      <td>-6.522955</td>\n",
       "      <td>-136.831453</td>\n",
       "      <td>-10.386551</td>\n",
       "      <td>13.868821</td>\n",
       "      <td>33.970155</td>\n",
       "      <td>-10.998025</td>\n",
       "      <td>2375.0</td>\n",
       "      <td>4-Seam Fastball</td>\n",
       "    </tr>\n",
       "    <tr>\n",
       "      <th>3</th>\n",
       "      <td>95.0</td>\n",
       "      <td>1.19</td>\n",
       "      <td>6.84</td>\n",
       "      <td>L</td>\n",
       "      <td>L</td>\n",
       "      <td>B</td>\n",
       "      <td>0.78</td>\n",
       "      <td>1.55</td>\n",
       "      <td>-0.72</td>\n",
       "      <td>3.54</td>\n",
       "      <td>-6.691365</td>\n",
       "      <td>-138.029105</td>\n",
       "      <td>-6.351737</td>\n",
       "      <td>11.532212</td>\n",
       "      <td>35.020703</td>\n",
       "      <td>-11.188066</td>\n",
       "      <td>2329.0</td>\n",
       "      <td>4-Seam Fastball</td>\n",
       "    </tr>\n",
       "    <tr>\n",
       "      <th>4</th>\n",
       "      <td>81.6</td>\n",
       "      <td>1.78</td>\n",
       "      <td>6.62</td>\n",
       "      <td>R</td>\n",
       "      <td>L</td>\n",
       "      <td>B</td>\n",
       "      <td>-0.58</td>\n",
       "      <td>-0.26</td>\n",
       "      <td>-0.66</td>\n",
       "      <td>1.13</td>\n",
       "      <td>-4.358323</td>\n",
       "      <td>-118.762313</td>\n",
       "      <td>-5.279821</td>\n",
       "      <td>-4.643198</td>\n",
       "      <td>22.102421</td>\n",
       "      <td>-33.822539</td>\n",
       "      <td>2295.0</td>\n",
       "      <td>Slider</td>\n",
       "    </tr>\n",
       "  </tbody>\n",
       "</table>\n",
       "</div>"
      ],
      "text/plain": [
       "   release_speed  release_pos_x  release_pos_z stand p_throws type  pfx_x  \\\n",
       "0           93.1           1.35           6.73     R        L    S   0.81   \n",
       "1           93.6           1.31           6.80     L        L    B   0.90   \n",
       "2           94.4           1.17           6.90     L        L    S   0.98   \n",
       "3           95.0           1.19           6.84     L        L    B   0.78   \n",
       "4           81.6           1.78           6.62     R        L    B  -0.58   \n",
       "\n",
       "   pfx_z  plate_x  plate_z       vx0         vy0        vz0         ax  \\\n",
       "0   1.52     0.78     2.13 -3.230974 -135.201801  -9.255781  10.678480   \n",
       "1   1.43    -1.15     1.51 -8.265487 -135.578023 -10.936295  12.932808   \n",
       "2   1.51    -0.51     1.94 -6.522955 -136.831453 -10.386551  13.868821   \n",
       "3   1.55    -0.72     3.54 -6.691365 -138.029105  -6.351737  11.532212   \n",
       "4  -0.26    -0.66     1.13 -4.358323 -118.762313  -5.279821  -4.643198   \n",
       "\n",
       "          ay         az  release_spin_rate       pitch_name  \n",
       "0  31.699974 -11.705800             2216.0  4-Seam Fastball  \n",
       "1  31.370147 -12.168466             2239.0  4-Seam Fastball  \n",
       "2  33.970155 -10.998025             2375.0  4-Seam Fastball  \n",
       "3  35.020703 -11.188066             2329.0  4-Seam Fastball  \n",
       "4  22.102421 -33.822539             2295.0           Slider  "
      ]
     },
     "execution_count": 4,
     "metadata": {},
     "output_type": "execute_result"
    }
   ],
   "source": [
    "# Check to make sure this is the data set that I want\n",
    "df.head()"
   ]
  },
  {
   "cell_type": "code",
   "execution_count": 5,
   "metadata": {},
   "outputs": [
    {
     "data": {
      "text/plain": [
       "B    0.670057\n",
       "S    0.329943\n",
       "Name: type, dtype: float64"
      ]
     },
     "execution_count": 5,
     "metadata": {},
     "output_type": "execute_result"
    }
   ],
   "source": [
    "df['type'].value_counts(normalize=True)"
   ]
  },
  {
   "cell_type": "code",
   "execution_count": 7,
   "metadata": {},
   "outputs": [
    {
     "data": {
      "text/html": [
       "<div>\n",
       "<style scoped>\n",
       "    .dataframe tbody tr th:only-of-type {\n",
       "        vertical-align: middle;\n",
       "    }\n",
       "\n",
       "    .dataframe tbody tr th {\n",
       "        vertical-align: top;\n",
       "    }\n",
       "\n",
       "    .dataframe thead th {\n",
       "        text-align: right;\n",
       "    }\n",
       "</style>\n",
       "<table border=\"1\" class=\"dataframe\">\n",
       "  <thead>\n",
       "    <tr style=\"text-align: right;\">\n",
       "      <th></th>\n",
       "      <th>release_speed</th>\n",
       "      <th>release_pos_x</th>\n",
       "      <th>release_pos_z</th>\n",
       "      <th>stand</th>\n",
       "      <th>p_throws</th>\n",
       "      <th>result</th>\n",
       "      <th>pfx_x</th>\n",
       "      <th>pfx_z</th>\n",
       "      <th>plate_x</th>\n",
       "      <th>plate_z</th>\n",
       "      <th>vx0</th>\n",
       "      <th>vy0</th>\n",
       "      <th>vz0</th>\n",
       "      <th>ax</th>\n",
       "      <th>ay</th>\n",
       "      <th>az</th>\n",
       "      <th>release_spin_rate</th>\n",
       "      <th>pitch_name</th>\n",
       "    </tr>\n",
       "  </thead>\n",
       "  <tbody>\n",
       "    <tr>\n",
       "      <th>0</th>\n",
       "      <td>93.1</td>\n",
       "      <td>1.35</td>\n",
       "      <td>6.73</td>\n",
       "      <td>R</td>\n",
       "      <td>L</td>\n",
       "      <td>S</td>\n",
       "      <td>0.81</td>\n",
       "      <td>1.52</td>\n",
       "      <td>0.78</td>\n",
       "      <td>2.13</td>\n",
       "      <td>-3.230974</td>\n",
       "      <td>-135.201801</td>\n",
       "      <td>-9.255781</td>\n",
       "      <td>10.678480</td>\n",
       "      <td>31.699974</td>\n",
       "      <td>-11.705800</td>\n",
       "      <td>2216.0</td>\n",
       "      <td>4-Seam Fastball</td>\n",
       "    </tr>\n",
       "    <tr>\n",
       "      <th>1</th>\n",
       "      <td>93.6</td>\n",
       "      <td>1.31</td>\n",
       "      <td>6.80</td>\n",
       "      <td>L</td>\n",
       "      <td>L</td>\n",
       "      <td>B</td>\n",
       "      <td>0.90</td>\n",
       "      <td>1.43</td>\n",
       "      <td>-1.15</td>\n",
       "      <td>1.51</td>\n",
       "      <td>-8.265487</td>\n",
       "      <td>-135.578023</td>\n",
       "      <td>-10.936295</td>\n",
       "      <td>12.932808</td>\n",
       "      <td>31.370147</td>\n",
       "      <td>-12.168466</td>\n",
       "      <td>2239.0</td>\n",
       "      <td>4-Seam Fastball</td>\n",
       "    </tr>\n",
       "    <tr>\n",
       "      <th>2</th>\n",
       "      <td>94.4</td>\n",
       "      <td>1.17</td>\n",
       "      <td>6.90</td>\n",
       "      <td>L</td>\n",
       "      <td>L</td>\n",
       "      <td>S</td>\n",
       "      <td>0.98</td>\n",
       "      <td>1.51</td>\n",
       "      <td>-0.51</td>\n",
       "      <td>1.94</td>\n",
       "      <td>-6.522955</td>\n",
       "      <td>-136.831453</td>\n",
       "      <td>-10.386551</td>\n",
       "      <td>13.868821</td>\n",
       "      <td>33.970155</td>\n",
       "      <td>-10.998025</td>\n",
       "      <td>2375.0</td>\n",
       "      <td>4-Seam Fastball</td>\n",
       "    </tr>\n",
       "    <tr>\n",
       "      <th>3</th>\n",
       "      <td>95.0</td>\n",
       "      <td>1.19</td>\n",
       "      <td>6.84</td>\n",
       "      <td>L</td>\n",
       "      <td>L</td>\n",
       "      <td>B</td>\n",
       "      <td>0.78</td>\n",
       "      <td>1.55</td>\n",
       "      <td>-0.72</td>\n",
       "      <td>3.54</td>\n",
       "      <td>-6.691365</td>\n",
       "      <td>-138.029105</td>\n",
       "      <td>-6.351737</td>\n",
       "      <td>11.532212</td>\n",
       "      <td>35.020703</td>\n",
       "      <td>-11.188066</td>\n",
       "      <td>2329.0</td>\n",
       "      <td>4-Seam Fastball</td>\n",
       "    </tr>\n",
       "    <tr>\n",
       "      <th>4</th>\n",
       "      <td>81.6</td>\n",
       "      <td>1.78</td>\n",
       "      <td>6.62</td>\n",
       "      <td>R</td>\n",
       "      <td>L</td>\n",
       "      <td>B</td>\n",
       "      <td>-0.58</td>\n",
       "      <td>-0.26</td>\n",
       "      <td>-0.66</td>\n",
       "      <td>1.13</td>\n",
       "      <td>-4.358323</td>\n",
       "      <td>-118.762313</td>\n",
       "      <td>-5.279821</td>\n",
       "      <td>-4.643198</td>\n",
       "      <td>22.102421</td>\n",
       "      <td>-33.822539</td>\n",
       "      <td>2295.0</td>\n",
       "      <td>Slider</td>\n",
       "    </tr>\n",
       "  </tbody>\n",
       "</table>\n",
       "</div>"
      ],
      "text/plain": [
       "   release_speed  release_pos_x  release_pos_z stand p_throws result  pfx_x  \\\n",
       "0           93.1           1.35           6.73     R        L      S   0.81   \n",
       "1           93.6           1.31           6.80     L        L      B   0.90   \n",
       "2           94.4           1.17           6.90     L        L      S   0.98   \n",
       "3           95.0           1.19           6.84     L        L      B   0.78   \n",
       "4           81.6           1.78           6.62     R        L      B  -0.58   \n",
       "\n",
       "   pfx_z  plate_x  plate_z       vx0         vy0        vz0         ax  \\\n",
       "0   1.52     0.78     2.13 -3.230974 -135.201801  -9.255781  10.678480   \n",
       "1   1.43    -1.15     1.51 -8.265487 -135.578023 -10.936295  12.932808   \n",
       "2   1.51    -0.51     1.94 -6.522955 -136.831453 -10.386551  13.868821   \n",
       "3   1.55    -0.72     3.54 -6.691365 -138.029105  -6.351737  11.532212   \n",
       "4  -0.26    -0.66     1.13 -4.358323 -118.762313  -5.279821  -4.643198   \n",
       "\n",
       "          ay         az  release_spin_rate       pitch_name  \n",
       "0  31.699974 -11.705800             2216.0  4-Seam Fastball  \n",
       "1  31.370147 -12.168466             2239.0  4-Seam Fastball  \n",
       "2  33.970155 -10.998025             2375.0  4-Seam Fastball  \n",
       "3  35.020703 -11.188066             2329.0  4-Seam Fastball  \n",
       "4  22.102421 -33.822539             2295.0           Slider  "
      ]
     },
     "execution_count": 7,
     "metadata": {},
     "output_type": "execute_result"
    }
   ],
   "source": [
    "# Since type is a confusing column name, we will rename it to 'result'\n",
    "df.rename(columns={'type':'result'}, inplace=True)\n",
    "df.head()"
   ]
  },
  {
   "cell_type": "code",
   "execution_count": 10,
   "metadata": {},
   "outputs": [
    {
     "data": {
      "text/html": [
       "<div>\n",
       "<style scoped>\n",
       "    .dataframe tbody tr th:only-of-type {\n",
       "        vertical-align: middle;\n",
       "    }\n",
       "\n",
       "    .dataframe tbody tr th {\n",
       "        vertical-align: top;\n",
       "    }\n",
       "\n",
       "    .dataframe thead th {\n",
       "        text-align: right;\n",
       "    }\n",
       "</style>\n",
       "<table border=\"1\" class=\"dataframe\">\n",
       "  <thead>\n",
       "    <tr style=\"text-align: right;\">\n",
       "      <th></th>\n",
       "      <th>release_speed</th>\n",
       "      <th>release_pos_x</th>\n",
       "      <th>release_pos_z</th>\n",
       "      <th>pfx_x</th>\n",
       "      <th>pfx_z</th>\n",
       "      <th>plate_x</th>\n",
       "      <th>plate_z</th>\n",
       "      <th>vx0</th>\n",
       "      <th>vy0</th>\n",
       "      <th>vz0</th>\n",
       "      <th>ax</th>\n",
       "      <th>ay</th>\n",
       "      <th>az</th>\n",
       "      <th>release_spin_rate</th>\n",
       "      <th>pitch_name</th>\n",
       "      <th>stand_R</th>\n",
       "      <th>p_throws_R</th>\n",
       "      <th>result_S</th>\n",
       "    </tr>\n",
       "  </thead>\n",
       "  <tbody>\n",
       "    <tr>\n",
       "      <th>0</th>\n",
       "      <td>93.1</td>\n",
       "      <td>1.35</td>\n",
       "      <td>6.73</td>\n",
       "      <td>0.81</td>\n",
       "      <td>1.52</td>\n",
       "      <td>0.78</td>\n",
       "      <td>2.13</td>\n",
       "      <td>-3.230974</td>\n",
       "      <td>-135.201801</td>\n",
       "      <td>-9.255781</td>\n",
       "      <td>10.678480</td>\n",
       "      <td>31.699974</td>\n",
       "      <td>-11.705800</td>\n",
       "      <td>2216.0</td>\n",
       "      <td>4-Seam Fastball</td>\n",
       "      <td>1</td>\n",
       "      <td>0</td>\n",
       "      <td>1</td>\n",
       "    </tr>\n",
       "    <tr>\n",
       "      <th>1</th>\n",
       "      <td>93.6</td>\n",
       "      <td>1.31</td>\n",
       "      <td>6.80</td>\n",
       "      <td>0.90</td>\n",
       "      <td>1.43</td>\n",
       "      <td>-1.15</td>\n",
       "      <td>1.51</td>\n",
       "      <td>-8.265487</td>\n",
       "      <td>-135.578023</td>\n",
       "      <td>-10.936295</td>\n",
       "      <td>12.932808</td>\n",
       "      <td>31.370147</td>\n",
       "      <td>-12.168466</td>\n",
       "      <td>2239.0</td>\n",
       "      <td>4-Seam Fastball</td>\n",
       "      <td>0</td>\n",
       "      <td>0</td>\n",
       "      <td>0</td>\n",
       "    </tr>\n",
       "    <tr>\n",
       "      <th>2</th>\n",
       "      <td>94.4</td>\n",
       "      <td>1.17</td>\n",
       "      <td>6.90</td>\n",
       "      <td>0.98</td>\n",
       "      <td>1.51</td>\n",
       "      <td>-0.51</td>\n",
       "      <td>1.94</td>\n",
       "      <td>-6.522955</td>\n",
       "      <td>-136.831453</td>\n",
       "      <td>-10.386551</td>\n",
       "      <td>13.868821</td>\n",
       "      <td>33.970155</td>\n",
       "      <td>-10.998025</td>\n",
       "      <td>2375.0</td>\n",
       "      <td>4-Seam Fastball</td>\n",
       "      <td>0</td>\n",
       "      <td>0</td>\n",
       "      <td>1</td>\n",
       "    </tr>\n",
       "    <tr>\n",
       "      <th>3</th>\n",
       "      <td>95.0</td>\n",
       "      <td>1.19</td>\n",
       "      <td>6.84</td>\n",
       "      <td>0.78</td>\n",
       "      <td>1.55</td>\n",
       "      <td>-0.72</td>\n",
       "      <td>3.54</td>\n",
       "      <td>-6.691365</td>\n",
       "      <td>-138.029105</td>\n",
       "      <td>-6.351737</td>\n",
       "      <td>11.532212</td>\n",
       "      <td>35.020703</td>\n",
       "      <td>-11.188066</td>\n",
       "      <td>2329.0</td>\n",
       "      <td>4-Seam Fastball</td>\n",
       "      <td>0</td>\n",
       "      <td>0</td>\n",
       "      <td>0</td>\n",
       "    </tr>\n",
       "    <tr>\n",
       "      <th>4</th>\n",
       "      <td>81.6</td>\n",
       "      <td>1.78</td>\n",
       "      <td>6.62</td>\n",
       "      <td>-0.58</td>\n",
       "      <td>-0.26</td>\n",
       "      <td>-0.66</td>\n",
       "      <td>1.13</td>\n",
       "      <td>-4.358323</td>\n",
       "      <td>-118.762313</td>\n",
       "      <td>-5.279821</td>\n",
       "      <td>-4.643198</td>\n",
       "      <td>22.102421</td>\n",
       "      <td>-33.822539</td>\n",
       "      <td>2295.0</td>\n",
       "      <td>Slider</td>\n",
       "      <td>1</td>\n",
       "      <td>0</td>\n",
       "      <td>0</td>\n",
       "    </tr>\n",
       "  </tbody>\n",
       "</table>\n",
       "</div>"
      ],
      "text/plain": [
       "   release_speed  release_pos_x  release_pos_z  pfx_x  pfx_z  plate_x  \\\n",
       "0           93.1           1.35           6.73   0.81   1.52     0.78   \n",
       "1           93.6           1.31           6.80   0.90   1.43    -1.15   \n",
       "2           94.4           1.17           6.90   0.98   1.51    -0.51   \n",
       "3           95.0           1.19           6.84   0.78   1.55    -0.72   \n",
       "4           81.6           1.78           6.62  -0.58  -0.26    -0.66   \n",
       "\n",
       "   plate_z       vx0         vy0        vz0         ax         ay         az  \\\n",
       "0     2.13 -3.230974 -135.201801  -9.255781  10.678480  31.699974 -11.705800   \n",
       "1     1.51 -8.265487 -135.578023 -10.936295  12.932808  31.370147 -12.168466   \n",
       "2     1.94 -6.522955 -136.831453 -10.386551  13.868821  33.970155 -10.998025   \n",
       "3     3.54 -6.691365 -138.029105  -6.351737  11.532212  35.020703 -11.188066   \n",
       "4     1.13 -4.358323 -118.762313  -5.279821  -4.643198  22.102421 -33.822539   \n",
       "\n",
       "   release_spin_rate       pitch_name  stand_R  p_throws_R  result_S  \n",
       "0             2216.0  4-Seam Fastball        1           0         1  \n",
       "1             2239.0  4-Seam Fastball        0           0         0  \n",
       "2             2375.0  4-Seam Fastball        0           0         1  \n",
       "3             2329.0  4-Seam Fastball        0           0         0  \n",
       "4             2295.0           Slider        1           0         0  "
      ]
     },
     "execution_count": 10,
     "metadata": {},
     "output_type": "execute_result"
    }
   ],
   "source": [
    "# We will turn the stand, p_throws, and result into binary columns\n",
    "# This is so that we can include a batter's stance, a pitcher's stance\n",
    "# and result of the play as something numeric\n",
    "make_binary = ['stand','p_throws','result']\n",
    "pd.get_dummies(df, columns=make_binary, drop_first=True).head()\n",
    "\n",
    "# This shows that righties (R) are 1 while lefties (L) are 0\n",
    "# As well as strikes (S) being represented as 1 and balls (B) as 0"
   ]
  },
  {
   "cell_type": "code",
   "execution_count": 11,
   "metadata": {},
   "outputs": [
    {
     "data": {
      "text/html": [
       "<div>\n",
       "<style scoped>\n",
       "    .dataframe tbody tr th:only-of-type {\n",
       "        vertical-align: middle;\n",
       "    }\n",
       "\n",
       "    .dataframe tbody tr th {\n",
       "        vertical-align: top;\n",
       "    }\n",
       "\n",
       "    .dataframe thead th {\n",
       "        text-align: right;\n",
       "    }\n",
       "</style>\n",
       "<table border=\"1\" class=\"dataframe\">\n",
       "  <thead>\n",
       "    <tr style=\"text-align: right;\">\n",
       "      <th></th>\n",
       "      <th>release_speed</th>\n",
       "      <th>release_pos_x</th>\n",
       "      <th>release_pos_z</th>\n",
       "      <th>pfx_x</th>\n",
       "      <th>pfx_z</th>\n",
       "      <th>plate_x</th>\n",
       "      <th>plate_z</th>\n",
       "      <th>vx0</th>\n",
       "      <th>vy0</th>\n",
       "      <th>vz0</th>\n",
       "      <th>ax</th>\n",
       "      <th>ay</th>\n",
       "      <th>az</th>\n",
       "      <th>release_spin_rate</th>\n",
       "      <th>pitch_name</th>\n",
       "      <th>batter_stance</th>\n",
       "      <th>pitchers_throwing_hand</th>\n",
       "      <th>result</th>\n",
       "    </tr>\n",
       "  </thead>\n",
       "  <tbody>\n",
       "    <tr>\n",
       "      <th>0</th>\n",
       "      <td>93.1</td>\n",
       "      <td>1.35</td>\n",
       "      <td>6.73</td>\n",
       "      <td>0.81</td>\n",
       "      <td>1.52</td>\n",
       "      <td>0.78</td>\n",
       "      <td>2.13</td>\n",
       "      <td>-3.230974</td>\n",
       "      <td>-135.201801</td>\n",
       "      <td>-9.255781</td>\n",
       "      <td>10.678480</td>\n",
       "      <td>31.699974</td>\n",
       "      <td>-11.705800</td>\n",
       "      <td>2216.0</td>\n",
       "      <td>4-Seam Fastball</td>\n",
       "      <td>1</td>\n",
       "      <td>0</td>\n",
       "      <td>1</td>\n",
       "    </tr>\n",
       "    <tr>\n",
       "      <th>1</th>\n",
       "      <td>93.6</td>\n",
       "      <td>1.31</td>\n",
       "      <td>6.80</td>\n",
       "      <td>0.90</td>\n",
       "      <td>1.43</td>\n",
       "      <td>-1.15</td>\n",
       "      <td>1.51</td>\n",
       "      <td>-8.265487</td>\n",
       "      <td>-135.578023</td>\n",
       "      <td>-10.936295</td>\n",
       "      <td>12.932808</td>\n",
       "      <td>31.370147</td>\n",
       "      <td>-12.168466</td>\n",
       "      <td>2239.0</td>\n",
       "      <td>4-Seam Fastball</td>\n",
       "      <td>0</td>\n",
       "      <td>0</td>\n",
       "      <td>0</td>\n",
       "    </tr>\n",
       "    <tr>\n",
       "      <th>2</th>\n",
       "      <td>94.4</td>\n",
       "      <td>1.17</td>\n",
       "      <td>6.90</td>\n",
       "      <td>0.98</td>\n",
       "      <td>1.51</td>\n",
       "      <td>-0.51</td>\n",
       "      <td>1.94</td>\n",
       "      <td>-6.522955</td>\n",
       "      <td>-136.831453</td>\n",
       "      <td>-10.386551</td>\n",
       "      <td>13.868821</td>\n",
       "      <td>33.970155</td>\n",
       "      <td>-10.998025</td>\n",
       "      <td>2375.0</td>\n",
       "      <td>4-Seam Fastball</td>\n",
       "      <td>0</td>\n",
       "      <td>0</td>\n",
       "      <td>1</td>\n",
       "    </tr>\n",
       "    <tr>\n",
       "      <th>3</th>\n",
       "      <td>95.0</td>\n",
       "      <td>1.19</td>\n",
       "      <td>6.84</td>\n",
       "      <td>0.78</td>\n",
       "      <td>1.55</td>\n",
       "      <td>-0.72</td>\n",
       "      <td>3.54</td>\n",
       "      <td>-6.691365</td>\n",
       "      <td>-138.029105</td>\n",
       "      <td>-6.351737</td>\n",
       "      <td>11.532212</td>\n",
       "      <td>35.020703</td>\n",
       "      <td>-11.188066</td>\n",
       "      <td>2329.0</td>\n",
       "      <td>4-Seam Fastball</td>\n",
       "      <td>0</td>\n",
       "      <td>0</td>\n",
       "      <td>0</td>\n",
       "    </tr>\n",
       "    <tr>\n",
       "      <th>4</th>\n",
       "      <td>81.6</td>\n",
       "      <td>1.78</td>\n",
       "      <td>6.62</td>\n",
       "      <td>-0.58</td>\n",
       "      <td>-0.26</td>\n",
       "      <td>-0.66</td>\n",
       "      <td>1.13</td>\n",
       "      <td>-4.358323</td>\n",
       "      <td>-118.762313</td>\n",
       "      <td>-5.279821</td>\n",
       "      <td>-4.643198</td>\n",
       "      <td>22.102421</td>\n",
       "      <td>-33.822539</td>\n",
       "      <td>2295.0</td>\n",
       "      <td>Slider</td>\n",
       "      <td>1</td>\n",
       "      <td>0</td>\n",
       "      <td>0</td>\n",
       "    </tr>\n",
       "  </tbody>\n",
       "</table>\n",
       "</div>"
      ],
      "text/plain": [
       "   release_speed  release_pos_x  release_pos_z  pfx_x  pfx_z  plate_x  \\\n",
       "0           93.1           1.35           6.73   0.81   1.52     0.78   \n",
       "1           93.6           1.31           6.80   0.90   1.43    -1.15   \n",
       "2           94.4           1.17           6.90   0.98   1.51    -0.51   \n",
       "3           95.0           1.19           6.84   0.78   1.55    -0.72   \n",
       "4           81.6           1.78           6.62  -0.58  -0.26    -0.66   \n",
       "\n",
       "   plate_z       vx0         vy0        vz0         ax         ay         az  \\\n",
       "0     2.13 -3.230974 -135.201801  -9.255781  10.678480  31.699974 -11.705800   \n",
       "1     1.51 -8.265487 -135.578023 -10.936295  12.932808  31.370147 -12.168466   \n",
       "2     1.94 -6.522955 -136.831453 -10.386551  13.868821  33.970155 -10.998025   \n",
       "3     3.54 -6.691365 -138.029105  -6.351737  11.532212  35.020703 -11.188066   \n",
       "4     1.13 -4.358323 -118.762313  -5.279821  -4.643198  22.102421 -33.822539   \n",
       "\n",
       "   release_spin_rate       pitch_name  batter_stance  pitchers_throwing_hand  \\\n",
       "0             2216.0  4-Seam Fastball              1                       0   \n",
       "1             2239.0  4-Seam Fastball              0                       0   \n",
       "2             2375.0  4-Seam Fastball              0                       0   \n",
       "3             2329.0  4-Seam Fastball              0                       0   \n",
       "4             2295.0           Slider              1                       0   \n",
       "\n",
       "   result  \n",
       "0       1  \n",
       "1       0  \n",
       "2       1  \n",
       "3       0  \n",
       "4       0  "
      ]
     },
     "execution_count": 11,
     "metadata": {},
     "output_type": "execute_result"
    }
   ],
   "source": [
    "# Change DF and rename columns\n",
    "df = pd.get_dummies(df, columns=make_binary, drop_first=True)\n",
    "df.rename(columns={'stand_R':'batter_stance','p_throws_R':'pitchers_throwing_hand','result_S':'result'},inplace=True)\n",
    "df.head()"
   ]
  },
  {
   "cell_type": "code",
   "execution_count": 12,
   "metadata": {},
   "outputs": [
    {
     "name": "stdout",
     "output_type": "stream",
     "text": [
      "<class 'pandas.core.frame.DataFrame'>\n",
      "RangeIndex: 357046 entries, 0 to 357045\n",
      "Data columns (total 18 columns):\n",
      " #   Column                  Non-Null Count   Dtype  \n",
      "---  ------                  --------------   -----  \n",
      " 0   release_speed           357046 non-null  float64\n",
      " 1   release_pos_x           357046 non-null  float64\n",
      " 2   release_pos_z           357046 non-null  float64\n",
      " 3   pfx_x                   357046 non-null  float64\n",
      " 4   pfx_z                   357046 non-null  float64\n",
      " 5   plate_x                 357046 non-null  float64\n",
      " 6   plate_z                 357046 non-null  float64\n",
      " 7   vx0                     357046 non-null  float64\n",
      " 8   vy0                     357046 non-null  float64\n",
      " 9   vz0                     357046 non-null  float64\n",
      " 10  ax                      357046 non-null  float64\n",
      " 11  ay                      357046 non-null  float64\n",
      " 12  az                      357046 non-null  float64\n",
      " 13  release_spin_rate       357046 non-null  float64\n",
      " 14  pitch_name              357046 non-null  object \n",
      " 15  batter_stance           357046 non-null  uint8  \n",
      " 16  pitchers_throwing_hand  357046 non-null  uint8  \n",
      " 17  result                  357046 non-null  uint8  \n",
      "dtypes: float64(14), object(1), uint8(3)\n",
      "memory usage: 41.9+ MB\n"
     ]
    }
   ],
   "source": [
    "df.info()"
   ]
  },
  {
   "cell_type": "markdown",
   "metadata": {},
   "source": [
    "Since we have `pitch_name` as a qualitative column for data, we will do two models, one where the name of the pitch is known and the other, without, just the pitch mechanics."
   ]
  },
  {
   "cell_type": "code",
   "execution_count": 13,
   "metadata": {},
   "outputs": [],
   "source": [
    "# let's make a copy of df as df2, \n",
    "# this will be df2 will not have the pitch names included\n",
    "df2 = df.copy()"
   ]
  },
  {
   "cell_type": "code",
   "execution_count": 14,
   "metadata": {},
   "outputs": [
    {
     "data": {
      "text/html": [
       "<div>\n",
       "<style scoped>\n",
       "    .dataframe tbody tr th:only-of-type {\n",
       "        vertical-align: middle;\n",
       "    }\n",
       "\n",
       "    .dataframe tbody tr th {\n",
       "        vertical-align: top;\n",
       "    }\n",
       "\n",
       "    .dataframe thead th {\n",
       "        text-align: right;\n",
       "    }\n",
       "</style>\n",
       "<table border=\"1\" class=\"dataframe\">\n",
       "  <thead>\n",
       "    <tr style=\"text-align: right;\">\n",
       "      <th></th>\n",
       "      <th>release_speed</th>\n",
       "      <th>release_pos_x</th>\n",
       "      <th>release_pos_z</th>\n",
       "      <th>pfx_x</th>\n",
       "      <th>pfx_z</th>\n",
       "      <th>plate_x</th>\n",
       "      <th>plate_z</th>\n",
       "      <th>vx0</th>\n",
       "      <th>vy0</th>\n",
       "      <th>vz0</th>\n",
       "      <th>ax</th>\n",
       "      <th>ay</th>\n",
       "      <th>az</th>\n",
       "      <th>release_spin_rate</th>\n",
       "      <th>batter_stance</th>\n",
       "      <th>pitchers_throwing_hand</th>\n",
       "      <th>result</th>\n",
       "    </tr>\n",
       "  </thead>\n",
       "  <tbody>\n",
       "    <tr>\n",
       "      <th>0</th>\n",
       "      <td>93.1</td>\n",
       "      <td>1.35</td>\n",
       "      <td>6.73</td>\n",
       "      <td>0.81</td>\n",
       "      <td>1.52</td>\n",
       "      <td>0.78</td>\n",
       "      <td>2.13</td>\n",
       "      <td>-3.230974</td>\n",
       "      <td>-135.201801</td>\n",
       "      <td>-9.255781</td>\n",
       "      <td>10.678480</td>\n",
       "      <td>31.699974</td>\n",
       "      <td>-11.705800</td>\n",
       "      <td>2216.0</td>\n",
       "      <td>1</td>\n",
       "      <td>0</td>\n",
       "      <td>1</td>\n",
       "    </tr>\n",
       "    <tr>\n",
       "      <th>1</th>\n",
       "      <td>93.6</td>\n",
       "      <td>1.31</td>\n",
       "      <td>6.80</td>\n",
       "      <td>0.90</td>\n",
       "      <td>1.43</td>\n",
       "      <td>-1.15</td>\n",
       "      <td>1.51</td>\n",
       "      <td>-8.265487</td>\n",
       "      <td>-135.578023</td>\n",
       "      <td>-10.936295</td>\n",
       "      <td>12.932808</td>\n",
       "      <td>31.370147</td>\n",
       "      <td>-12.168466</td>\n",
       "      <td>2239.0</td>\n",
       "      <td>0</td>\n",
       "      <td>0</td>\n",
       "      <td>0</td>\n",
       "    </tr>\n",
       "    <tr>\n",
       "      <th>2</th>\n",
       "      <td>94.4</td>\n",
       "      <td>1.17</td>\n",
       "      <td>6.90</td>\n",
       "      <td>0.98</td>\n",
       "      <td>1.51</td>\n",
       "      <td>-0.51</td>\n",
       "      <td>1.94</td>\n",
       "      <td>-6.522955</td>\n",
       "      <td>-136.831453</td>\n",
       "      <td>-10.386551</td>\n",
       "      <td>13.868821</td>\n",
       "      <td>33.970155</td>\n",
       "      <td>-10.998025</td>\n",
       "      <td>2375.0</td>\n",
       "      <td>0</td>\n",
       "      <td>0</td>\n",
       "      <td>1</td>\n",
       "    </tr>\n",
       "    <tr>\n",
       "      <th>3</th>\n",
       "      <td>95.0</td>\n",
       "      <td>1.19</td>\n",
       "      <td>6.84</td>\n",
       "      <td>0.78</td>\n",
       "      <td>1.55</td>\n",
       "      <td>-0.72</td>\n",
       "      <td>3.54</td>\n",
       "      <td>-6.691365</td>\n",
       "      <td>-138.029105</td>\n",
       "      <td>-6.351737</td>\n",
       "      <td>11.532212</td>\n",
       "      <td>35.020703</td>\n",
       "      <td>-11.188066</td>\n",
       "      <td>2329.0</td>\n",
       "      <td>0</td>\n",
       "      <td>0</td>\n",
       "      <td>0</td>\n",
       "    </tr>\n",
       "    <tr>\n",
       "      <th>4</th>\n",
       "      <td>81.6</td>\n",
       "      <td>1.78</td>\n",
       "      <td>6.62</td>\n",
       "      <td>-0.58</td>\n",
       "      <td>-0.26</td>\n",
       "      <td>-0.66</td>\n",
       "      <td>1.13</td>\n",
       "      <td>-4.358323</td>\n",
       "      <td>-118.762313</td>\n",
       "      <td>-5.279821</td>\n",
       "      <td>-4.643198</td>\n",
       "      <td>22.102421</td>\n",
       "      <td>-33.822539</td>\n",
       "      <td>2295.0</td>\n",
       "      <td>1</td>\n",
       "      <td>0</td>\n",
       "      <td>0</td>\n",
       "    </tr>\n",
       "  </tbody>\n",
       "</table>\n",
       "</div>"
      ],
      "text/plain": [
       "   release_speed  release_pos_x  release_pos_z  pfx_x  pfx_z  plate_x  \\\n",
       "0           93.1           1.35           6.73   0.81   1.52     0.78   \n",
       "1           93.6           1.31           6.80   0.90   1.43    -1.15   \n",
       "2           94.4           1.17           6.90   0.98   1.51    -0.51   \n",
       "3           95.0           1.19           6.84   0.78   1.55    -0.72   \n",
       "4           81.6           1.78           6.62  -0.58  -0.26    -0.66   \n",
       "\n",
       "   plate_z       vx0         vy0        vz0         ax         ay         az  \\\n",
       "0     2.13 -3.230974 -135.201801  -9.255781  10.678480  31.699974 -11.705800   \n",
       "1     1.51 -8.265487 -135.578023 -10.936295  12.932808  31.370147 -12.168466   \n",
       "2     1.94 -6.522955 -136.831453 -10.386551  13.868821  33.970155 -10.998025   \n",
       "3     3.54 -6.691365 -138.029105  -6.351737  11.532212  35.020703 -11.188066   \n",
       "4     1.13 -4.358323 -118.762313  -5.279821  -4.643198  22.102421 -33.822539   \n",
       "\n",
       "   release_spin_rate  batter_stance  pitchers_throwing_hand  result  \n",
       "0             2216.0              1                       0       1  \n",
       "1             2239.0              0                       0       0  \n",
       "2             2375.0              0                       0       1  \n",
       "3             2329.0              0                       0       0  \n",
       "4             2295.0              1                       0       0  "
      ]
     },
     "execution_count": 14,
     "metadata": {},
     "output_type": "execute_result"
    }
   ],
   "source": [
    "df2 = df2.loc[:, df2.columns != 'pitch_name']\n",
    "df2.head()"
   ]
  },
  {
   "cell_type": "code",
   "execution_count": 17,
   "metadata": {},
   "outputs": [],
   "source": [
    "# Let's dummify pitch name for the original dataframe\n",
    "df = pd.get_dummies(df, columns=['pitch_name'], prefix='pitch', drop_first=True)"
   ]
  },
  {
   "cell_type": "markdown",
   "metadata": {},
   "source": [
    "# Let's ask some questions\n",
    "\n",
    "Can we predict the call of a baseball pitch thrown based on ____?"
   ]
  },
  {
   "cell_type": "code",
   "execution_count": 18,
   "metadata": {},
   "outputs": [
    {
     "name": "stdout",
     "output_type": "stream",
     "text": [
      "Index(['release_speed', 'release_pos_x', 'release_pos_z', 'pfx_x', 'pfx_z',\n",
      "       'plate_x', 'plate_z', 'vx0', 'vy0', 'vz0', 'ax', 'ay', 'az',\n",
      "       'release_spin_rate', 'batter_stance', 'pitchers_throwing_hand',\n",
      "       'result', 'pitch_Changeup', 'pitch_Curveball', 'pitch_Cutter',\n",
      "       'pitch_Eephus', 'pitch_Fastball', 'pitch_Knuckle Curve',\n",
      "       'pitch_Knuckleball', 'pitch_Sinker', 'pitch_Slider',\n",
      "       'pitch_Split-Finger'],\n",
      "      dtype='object')\n",
      "Index(['release_speed', 'release_pos_x', 'release_pos_z', 'pfx_x', 'pfx_z',\n",
      "       'plate_x', 'plate_z', 'vx0', 'vy0', 'vz0', 'ax', 'ay', 'az',\n",
      "       'release_spin_rate', 'batter_stance', 'pitchers_throwing_hand',\n",
      "       'result'],\n",
      "      dtype='object')\n"
     ]
    }
   ],
   "source": [
    "print(df.columns)\n",
    "print(df2.columns)"
   ]
  },
  {
   "cell_type": "markdown",
   "metadata": {},
   "source": [
    "We will start with `df2` and focus on the mechanics and physics of the pitch."
   ]
  },
  {
   "cell_type": "code",
   "execution_count": 24,
   "metadata": {},
   "outputs": [],
   "source": [
    "X = df2.iloc[:,:-1] # A matrix containing features we want\n",
    "X.head()\n",
    "y = df2.result # A vector we are aiming for"
   ]
  },
  {
   "cell_type": "code",
   "execution_count": 25,
   "metadata": {},
   "outputs": [],
   "source": [
    "# Use train test split to split X and y into training and testing sets\n",
    "X_train, X_test, y_train, y_test = train_test_split(X, y, random_state=66)"
   ]
  },
  {
   "cell_type": "code",
   "execution_count": 28,
   "metadata": {},
   "outputs": [
    {
     "data": {
      "text/plain": [
       "((267784, 16), (89262, 16), (267784,), (89262,))"
      ]
     },
     "execution_count": 28,
     "metadata": {},
     "output_type": "execute_result"
    }
   ],
   "source": [
    "# Check the splits are correct\n",
    "X_train.shape, X_test.shape, y_train.shape, y_test.shape"
   ]
  },
  {
   "cell_type": "code",
   "execution_count": 29,
   "metadata": {},
   "outputs": [],
   "source": [
    "# Since the project and presentation used RandomForest, we will start with that\n",
    "\n",
    "# We will even use the parameters from the previous models\n",
    "params = ({\n",
    "    'n_estimators':[100,150,200],\n",
    "    'max_depth':[2,3,4,5],\n",
    "    'max_features':['log2','auto']\n",
    "})"
   ]
  },
  {
   "cell_type": "code",
   "execution_count": 30,
   "metadata": {},
   "outputs": [],
   "source": [
    "rf = RandomizedSearchCV(RandomForestClassifier(),\n",
    "                        param_distributions=params,\n",
    "                        n_jobs=8,\n",
    "                        verbose=2,\n",
    "                        random_state=66)"
   ]
  },
  {
   "cell_type": "code",
   "execution_count": 31,
   "metadata": {},
   "outputs": [
    {
     "name": "stdout",
     "output_type": "stream",
     "text": [
      "Fitting 5 folds for each of 10 candidates, totalling 50 fits\n"
     ]
    },
    {
     "name": "stderr",
     "output_type": "stream",
     "text": [
      "[Parallel(n_jobs=8)]: Using backend LokyBackend with 8 concurrent workers.\n",
      "[Parallel(n_jobs=8)]: Done  25 tasks      | elapsed:  1.6min\n",
      "[Parallel(n_jobs=8)]: Done  50 out of  50 | elapsed:  3.4min finished\n"
     ]
    },
    {
     "data": {
      "text/plain": [
       "RandomizedSearchCV(estimator=RandomForestClassifier(), n_jobs=8,\n",
       "                   param_distributions={'max_depth': [2, 3, 4, 5],\n",
       "                                        'max_features': ['log2', 'auto'],\n",
       "                                        'n_estimators': [100, 150, 200]},\n",
       "                   random_state=66, verbose=2)"
      ]
     },
     "execution_count": 31,
     "metadata": {},
     "output_type": "execute_result"
    }
   ],
   "source": [
    "rf.fit(X_train, y_train)"
   ]
  },
  {
   "cell_type": "code",
   "execution_count": 32,
   "metadata": {},
   "outputs": [
    {
     "data": {
      "text/plain": [
       "0.9207532936993995"
      ]
     },
     "execution_count": 32,
     "metadata": {},
     "output_type": "execute_result"
    }
   ],
   "source": [
    "rf.score(X_train, y_train)"
   ]
  },
  {
   "cell_type": "code",
   "execution_count": 33,
   "metadata": {},
   "outputs": [
    {
     "data": {
      "text/plain": [
       "0.9198763191503664"
      ]
     },
     "execution_count": 33,
     "metadata": {},
     "output_type": "execute_result"
    }
   ],
   "source": [
    "rf.score(X_test, y_test)"
   ]
  },
  {
   "cell_type": "code",
   "execution_count": 34,
   "metadata": {},
   "outputs": [
    {
     "data": {
      "text/plain": [
       "{'n_estimators': 200, 'max_features': 'auto', 'max_depth': 5}"
      ]
     },
     "execution_count": 34,
     "metadata": {},
     "output_type": "execute_result"
    }
   ],
   "source": [
    "rf.best_params_"
   ]
  },
  {
   "cell_type": "code",
   "execution_count": 35,
   "metadata": {},
   "outputs": [
    {
     "data": {
      "text/plain": [
       "0.9198763191503664"
      ]
     },
     "execution_count": 35,
     "metadata": {},
     "output_type": "execute_result"
    }
   ],
   "source": [
    "# Check accuracy of our test but why are they the same?\n",
    "preds = rf.predict(X_test)\n",
    "accuracy_score(y_test, preds)"
   ]
  },
  {
   "cell_type": "markdown",
   "metadata": {},
   "source": [
    "Let's ensure that we have good accuracy of the model by looking at the **Null Accuracy**."
   ]
  },
  {
   "cell_type": "code",
   "execution_count": 41,
   "metadata": {},
   "outputs": [
    {
     "name": "stdout",
     "output_type": "stream",
     "text": [
      "0    59864\n",
      "1    29398\n",
      "Name: result, dtype: int64\n"
     ]
    },
    {
     "data": {
      "text/plain": [
       "0.32934507405166813"
      ]
     },
     "execution_count": 41,
     "metadata": {},
     "output_type": "execute_result"
    }
   ],
   "source": [
    "print(y_test.value_counts()); y_test.mean() \n",
    "# The mean will give a mean of the percentage of 1's"
   ]
  },
  {
   "cell_type": "code",
   "execution_count": 42,
   "metadata": {},
   "outputs": [
    {
     "data": {
      "text/plain": [
       "0.6706549259483319"
      ]
     },
     "execution_count": 42,
     "metadata": {},
     "output_type": "execute_result"
    }
   ],
   "source": [
    "# calculate the percentage of zeros\n",
    "1 - y_test.mean()"
   ]
  },
  {
   "cell_type": "code",
   "execution_count": 43,
   "metadata": {},
   "outputs": [
    {
     "data": {
      "text/plain": [
       "0.6706549259483319"
      ]
     },
     "execution_count": 43,
     "metadata": {},
     "output_type": "execute_result"
    }
   ],
   "source": [
    "max(y_test.mean(), 1 - y_test.mean())"
   ]
  },
  {
   "cell_type": "markdown",
   "metadata": {},
   "source": [
    "The dumb model would always predict 0 and be 68% correct.\n",
    "\n",
    "- The accuracy on the RandomForest model is better than a dumb model\n",
    "- We have overachieved the minimum"
   ]
  },
  {
   "cell_type": "markdown",
   "metadata": {},
   "source": [
    "### Now, A Random Forest but on a GridSearch"
   ]
  },
  {
   "cell_type": "code",
   "execution_count": 36,
   "metadata": {},
   "outputs": [],
   "source": [
    "rf2 = GridSearchCV(RandomForestClassifier(random_state=66),\n",
    "                       param_grid=params,\n",
    "                       n_jobs=8,\n",
    "                       verbose=2)"
   ]
  },
  {
   "cell_type": "code",
   "execution_count": 37,
   "metadata": {},
   "outputs": [
    {
     "name": "stdout",
     "output_type": "stream",
     "text": [
      "Fitting 5 folds for each of 24 candidates, totalling 120 fits\n"
     ]
    },
    {
     "name": "stderr",
     "output_type": "stream",
     "text": [
      "[Parallel(n_jobs=8)]: Using backend LokyBackend with 8 concurrent workers.\n",
      "[Parallel(n_jobs=8)]: Done  25 tasks      | elapsed:  1.6min\n",
      "[Parallel(n_jobs=8)]: Done 120 out of 120 | elapsed: 11.1min finished\n"
     ]
    },
    {
     "data": {
      "text/plain": [
       "GridSearchCV(estimator=RandomForestClassifier(random_state=66), n_jobs=8,\n",
       "             param_grid={'max_depth': [2, 3, 4, 5],\n",
       "                         'max_features': ['log2', 'auto'],\n",
       "                         'n_estimators': [100, 150, 200]},\n",
       "             verbose=2)"
      ]
     },
     "execution_count": 37,
     "metadata": {},
     "output_type": "execute_result"
    }
   ],
   "source": [
    "rf2.fit(X_train, y_train)"
   ]
  },
  {
   "cell_type": "code",
   "execution_count": 38,
   "metadata": {},
   "outputs": [
    {
     "name": "stdout",
     "output_type": "stream",
     "text": [
      "Train score: 0.9209288082932513\n",
      "Test score: 0.9196522596401604\n"
     ]
    },
    {
     "data": {
      "text/plain": [
       "{'max_depth': 5, 'max_features': 'log2', 'n_estimators': 200}"
      ]
     },
     "execution_count": 38,
     "metadata": {},
     "output_type": "execute_result"
    }
   ],
   "source": [
    "print(f'Train score: {rf2.score(X_train, y_train)}')\n",
    "print(f'Test score: {rf2.score(X_test, y_test)}')\n",
    "rf2.best_params_"
   ]
  },
  {
   "cell_type": "code",
   "execution_count": 39,
   "metadata": {},
   "outputs": [
    {
     "data": {
      "text/plain": [
       "0.9196522596401604"
      ]
     },
     "execution_count": 39,
     "metadata": {},
     "output_type": "execute_result"
    }
   ],
   "source": [
    "preds2 = rf2.predict(X_test)\n",
    "accuracy_score(y_test, preds2)"
   ]
  },
  {
   "cell_type": "markdown",
   "metadata": {},
   "source": [
    "Our accuracy on this model is around the same as our initial model. With that being said, it is also better than our null model meaning that one or more of the features prove influence on the result of the pitch."
   ]
  },
  {
   "cell_type": "markdown",
   "metadata": {},
   "source": [
    "## Confusion Matrix of our RandomForestClassifiers\n",
    "\n",
    "---\n",
    "Looking at the confusion matricies below, it shows that the false positives and false negatives were small in comparison to the model prediciting a strike and/or ball call. That being said, it seems that during the 2021 MLB season, just looking at the location and understanding the speed of a pitch, how a pitcher throws, and the stance of a batter does in someway determine the influence of a call."
   ]
  },
  {
   "cell_type": "code",
   "execution_count": 51,
   "metadata": {},
   "outputs": [
    {
     "data": {
      "image/png": "[encoded data removed]",
      "text/plain": [
       "<Figure size 432x288 with 2 Axes>"
      ]
     },
     "metadata": {
      "needs_background": "light"
     },
     "output_type": "display_data"
    }
   ],
   "source": [
    "plot_confusion_matrix(rf, X_test, y_test)\n",
    "plt.show()"
   ]
  },
  {
   "cell_type": "code",
   "execution_count": 53,
   "metadata": {},
   "outputs": [
    {
     "data": {
      "image/png": "[encoded data removed]",
      "text/plain": [
       "<Figure size 432x288 with 2 Axes>"
      ]
     },
     "metadata": {
      "needs_background": "light"
     },
     "output_type": "display_data"
    }
   ],
   "source": [
    "plot_confusion_matrix(rf2, X_test, y_test)\n",
    "plt.show()"
   ]
  },
  {
   "cell_type": "markdown",
   "metadata": {},
   "source": [
    "## Next, run the models that have the pitch name included\n",
    "\n",
    "aka we will use `df` dataframe containing the categorical variable \"pitch name\" the have been dummified."
   ]
  },
  {
   "cell_type": "code",
   "execution_count": 56,
   "metadata": {},
   "outputs": [
    {
     "data": {
      "text/html": [
       "<div>\n",
       "<style scoped>\n",
       "    .dataframe tbody tr th:only-of-type {\n",
       "        vertical-align: middle;\n",
       "    }\n",
       "\n",
       "    .dataframe tbody tr th {\n",
       "        vertical-align: top;\n",
       "    }\n",
       "\n",
       "    .dataframe thead th {\n",
       "        text-align: right;\n",
       "    }\n",
       "</style>\n",
       "<table border=\"1\" class=\"dataframe\">\n",
       "  <thead>\n",
       "    <tr style=\"text-align: right;\">\n",
       "      <th></th>\n",
       "      <th>release_speed</th>\n",
       "      <th>release_pos_x</th>\n",
       "      <th>release_pos_z</th>\n",
       "      <th>pfx_x</th>\n",
       "      <th>pfx_z</th>\n",
       "      <th>plate_x</th>\n",
       "      <th>plate_z</th>\n",
       "      <th>vx0</th>\n",
       "      <th>vy0</th>\n",
       "      <th>vz0</th>\n",
       "      <th>ax</th>\n",
       "      <th>ay</th>\n",
       "      <th>az</th>\n",
       "      <th>release_spin_rate</th>\n",
       "      <th>batter_stance</th>\n",
       "      <th>pitchers_throwing_hand</th>\n",
       "      <th>pitch_Changeup</th>\n",
       "      <th>pitch_Curveball</th>\n",
       "      <th>pitch_Cutter</th>\n",
       "      <th>pitch_Eephus</th>\n",
       "      <th>pitch_Fastball</th>\n",
       "      <th>pitch_Knuckle Curve</th>\n",
       "      <th>pitch_Knuckleball</th>\n",
       "      <th>pitch_Sinker</th>\n",
       "      <th>pitch_Slider</th>\n",
       "      <th>pitch_Split-Finger</th>\n",
       "    </tr>\n",
       "  </thead>\n",
       "  <tbody>\n",
       "    <tr>\n",
       "      <th>0</th>\n",
       "      <td>93.1</td>\n",
       "      <td>1.35</td>\n",
       "      <td>6.73</td>\n",
       "      <td>0.81</td>\n",
       "      <td>1.52</td>\n",
       "      <td>0.78</td>\n",
       "      <td>2.13</td>\n",
       "      <td>-3.230974</td>\n",
       "      <td>-135.201801</td>\n",
       "      <td>-9.255781</td>\n",
       "      <td>10.678480</td>\n",
       "      <td>31.699974</td>\n",
       "      <td>-11.705800</td>\n",
       "      <td>2216.0</td>\n",
       "      <td>1</td>\n",
       "      <td>0</td>\n",
       "      <td>0</td>\n",
       "      <td>0</td>\n",
       "      <td>0</td>\n",
       "      <td>0</td>\n",
       "      <td>0</td>\n",
       "      <td>0</td>\n",
       "      <td>0</td>\n",
       "      <td>0</td>\n",
       "      <td>0</td>\n",
       "      <td>0</td>\n",
       "    </tr>\n",
       "    <tr>\n",
       "      <th>1</th>\n",
       "      <td>93.6</td>\n",
       "      <td>1.31</td>\n",
       "      <td>6.80</td>\n",
       "      <td>0.90</td>\n",
       "      <td>1.43</td>\n",
       "      <td>-1.15</td>\n",
       "      <td>1.51</td>\n",
       "      <td>-8.265487</td>\n",
       "      <td>-135.578023</td>\n",
       "      <td>-10.936295</td>\n",
       "      <td>12.932808</td>\n",
       "      <td>31.370147</td>\n",
       "      <td>-12.168466</td>\n",
       "      <td>2239.0</td>\n",
       "      <td>0</td>\n",
       "      <td>0</td>\n",
       "      <td>0</td>\n",
       "      <td>0</td>\n",
       "      <td>0</td>\n",
       "      <td>0</td>\n",
       "      <td>0</td>\n",
       "      <td>0</td>\n",
       "      <td>0</td>\n",
       "      <td>0</td>\n",
       "      <td>0</td>\n",
       "      <td>0</td>\n",
       "    </tr>\n",
       "    <tr>\n",
       "      <th>2</th>\n",
       "      <td>94.4</td>\n",
       "      <td>1.17</td>\n",
       "      <td>6.90</td>\n",
       "      <td>0.98</td>\n",
       "      <td>1.51</td>\n",
       "      <td>-0.51</td>\n",
       "      <td>1.94</td>\n",
       "      <td>-6.522955</td>\n",
       "      <td>-136.831453</td>\n",
       "      <td>-10.386551</td>\n",
       "      <td>13.868821</td>\n",
       "      <td>33.970155</td>\n",
       "      <td>-10.998025</td>\n",
       "      <td>2375.0</td>\n",
       "      <td>0</td>\n",
       "      <td>0</td>\n",
       "      <td>0</td>\n",
       "      <td>0</td>\n",
       "      <td>0</td>\n",
       "      <td>0</td>\n",
       "      <td>0</td>\n",
       "      <td>0</td>\n",
       "      <td>0</td>\n",
       "      <td>0</td>\n",
       "      <td>0</td>\n",
       "      <td>0</td>\n",
       "    </tr>\n",
       "    <tr>\n",
       "      <th>3</th>\n",
       "      <td>95.0</td>\n",
       "      <td>1.19</td>\n",
       "      <td>6.84</td>\n",
       "      <td>0.78</td>\n",
       "      <td>1.55</td>\n",
       "      <td>-0.72</td>\n",
       "      <td>3.54</td>\n",
       "      <td>-6.691365</td>\n",
       "      <td>-138.029105</td>\n",
       "      <td>-6.351737</td>\n",
       "      <td>11.532212</td>\n",
       "      <td>35.020703</td>\n",
       "      <td>-11.188066</td>\n",
       "      <td>2329.0</td>\n",
       "      <td>0</td>\n",
       "      <td>0</td>\n",
       "      <td>0</td>\n",
       "      <td>0</td>\n",
       "      <td>0</td>\n",
       "      <td>0</td>\n",
       "      <td>0</td>\n",
       "      <td>0</td>\n",
       "      <td>0</td>\n",
       "      <td>0</td>\n",
       "      <td>0</td>\n",
       "      <td>0</td>\n",
       "    </tr>\n",
       "    <tr>\n",
       "      <th>4</th>\n",
       "      <td>81.6</td>\n",
       "      <td>1.78</td>\n",
       "      <td>6.62</td>\n",
       "      <td>-0.58</td>\n",
       "      <td>-0.26</td>\n",
       "      <td>-0.66</td>\n",
       "      <td>1.13</td>\n",
       "      <td>-4.358323</td>\n",
       "      <td>-118.762313</td>\n",
       "      <td>-5.279821</td>\n",
       "      <td>-4.643198</td>\n",
       "      <td>22.102421</td>\n",
       "      <td>-33.822539</td>\n",
       "      <td>2295.0</td>\n",
       "      <td>1</td>\n",
       "      <td>0</td>\n",
       "      <td>0</td>\n",
       "      <td>0</td>\n",
       "      <td>0</td>\n",
       "      <td>0</td>\n",
       "      <td>0</td>\n",
       "      <td>0</td>\n",
       "      <td>0</td>\n",
       "      <td>0</td>\n",
       "      <td>1</td>\n",
       "      <td>0</td>\n",
       "    </tr>\n",
       "  </tbody>\n",
       "</table>\n",
       "</div>"
      ],
      "text/plain": [
       "   release_speed  release_pos_x  release_pos_z  pfx_x  pfx_z  plate_x  \\\n",
       "0           93.1           1.35           6.73   0.81   1.52     0.78   \n",
       "1           93.6           1.31           6.80   0.90   1.43    -1.15   \n",
       "2           94.4           1.17           6.90   0.98   1.51    -0.51   \n",
       "3           95.0           1.19           6.84   0.78   1.55    -0.72   \n",
       "4           81.6           1.78           6.62  -0.58  -0.26    -0.66   \n",
       "\n",
       "   plate_z       vx0         vy0        vz0         ax         ay         az  \\\n",
       "0     2.13 -3.230974 -135.201801  -9.255781  10.678480  31.699974 -11.705800   \n",
       "1     1.51 -8.265487 -135.578023 -10.936295  12.932808  31.370147 -12.168466   \n",
       "2     1.94 -6.522955 -136.831453 -10.386551  13.868821  33.970155 -10.998025   \n",
       "3     3.54 -6.691365 -138.029105  -6.351737  11.532212  35.020703 -11.188066   \n",
       "4     1.13 -4.358323 -118.762313  -5.279821  -4.643198  22.102421 -33.822539   \n",
       "\n",
       "   release_spin_rate  batter_stance  pitchers_throwing_hand  pitch_Changeup  \\\n",
       "0             2216.0              1                       0               0   \n",
       "1             2239.0              0                       0               0   \n",
       "2             2375.0              0                       0               0   \n",
       "3             2329.0              0                       0               0   \n",
       "4             2295.0              1                       0               0   \n",
       "\n",
       "   pitch_Curveball  pitch_Cutter  pitch_Eephus  pitch_Fastball  \\\n",
       "0                0             0             0               0   \n",
       "1                0             0             0               0   \n",
       "2                0             0             0               0   \n",
       "3                0             0             0               0   \n",
       "4                0             0             0               0   \n",
       "\n",
       "   pitch_Knuckle Curve  pitch_Knuckleball  pitch_Sinker  pitch_Slider  \\\n",
       "0                    0                  0             0             0   \n",
       "1                    0                  0             0             0   \n",
       "2                    0                  0             0             0   \n",
       "3                    0                  0             0             0   \n",
       "4                    0                  0             0             1   \n",
       "\n",
       "   pitch_Split-Finger  \n",
       "0                   0  \n",
       "1                   0  \n",
       "2                   0  \n",
       "3                   0  \n",
       "4                   0  "
      ]
     },
     "execution_count": 56,
     "metadata": {},
     "output_type": "execute_result"
    }
   ],
   "source": [
    "X2 = df.loc[:, df.columns!='result']\n",
    "X2.head()"
   ]
  },
  {
   "cell_type": "code",
   "execution_count": 57,
   "metadata": {},
   "outputs": [],
   "source": [
    "X2_train, X2_test, y2_train, y2_test = train_test_split(X2, y, random_state=66)"
   ]
  },
  {
   "cell_type": "code",
   "execution_count": 58,
   "metadata": {},
   "outputs": [],
   "source": [
    "rf3 = RandomizedSearchCV(RandomForestClassifier(),\n",
    "                        param_distributions=params,\n",
    "                        n_jobs=8,\n",
    "                        verbose=2,\n",
    "                        random_state=66)"
   ]
  },
  {
   "cell_type": "code",
   "execution_count": 59,
   "metadata": {},
   "outputs": [
    {
     "name": "stdout",
     "output_type": "stream",
     "text": [
      "Fitting 5 folds for each of 10 candidates, totalling 50 fits\n"
     ]
    },
    {
     "name": "stderr",
     "output_type": "stream",
     "text": [
      "[Parallel(n_jobs=8)]: Using backend LokyBackend with 8 concurrent workers.\n",
      "[Parallel(n_jobs=8)]: Done  25 tasks      | elapsed:  1.3min\n",
      "[Parallel(n_jobs=8)]: Done  50 out of  50 | elapsed:  3.0min finished\n"
     ]
    },
    {
     "data": {
      "text/plain": [
       "RandomizedSearchCV(estimator=RandomForestClassifier(), n_jobs=8,\n",
       "                   param_distributions={'max_depth': [2, 3, 4, 5],\n",
       "                                        'max_features': ['log2', 'auto'],\n",
       "                                        'n_estimators': [100, 150, 200]},\n",
       "                   random_state=66, verbose=2)"
      ]
     },
     "execution_count": 59,
     "metadata": {},
     "output_type": "execute_result"
    }
   ],
   "source": [
    "rf3.fit(X2_train, y2_train)"
   ]
  },
  {
   "cell_type": "code",
   "execution_count": 60,
   "metadata": {},
   "outputs": [
    {
     "name": "stdout",
     "output_type": "stream",
     "text": [
      "Train score: 0.8823380037642279\n",
      "Test score: 0.8805650780847393\n"
     ]
    },
    {
     "data": {
      "text/plain": [
       "{'n_estimators': 200, 'max_features': 'auto', 'max_depth': 5}"
      ]
     },
     "execution_count": 60,
     "metadata": {},
     "output_type": "execute_result"
    }
   ],
   "source": [
    "print(f'Train score: {rf3.score(X2_train, y2_train)}')\n",
    "print(f'Test score: {rf3.score(X2_test, y2_test)}')\n",
    "rf3.best_params_"
   ]
  },
  {
   "cell_type": "code",
   "execution_count": 61,
   "metadata": {},
   "outputs": [
    {
     "data": {
      "text/plain": [
       "0.8805650780847393"
      ]
     },
     "execution_count": 61,
     "metadata": {},
     "output_type": "execute_result"
    }
   ],
   "source": [
    "preds3 = rf3.predict(X2_test)\n",
    "accuracy_score(y2_test, preds3)"
   ]
  },
  {
   "cell_type": "markdown",
   "metadata": {},
   "source": [
    "A reminder of our null accuracy: `0.6706549259483319`.\n",
    "\n",
    "---\n",
    "Looking at the results, it seems our accuracy has dropped once we include the name of the pitch. It is kind of difficult to predict a pitch as it is being thrown, normally that is something you assess once the pitch reaches the catcher's glove but nonetheless knowing that, it does not beat the initial model. However comparing it to the past models, it does by significant amount."
   ]
  },
  {
   "cell_type": "code",
   "execution_count": 63,
   "metadata": {},
   "outputs": [],
   "source": [
    "rf4 = GridSearchCV(RandomForestClassifier(random_state=66),\n",
    "                       param_grid=params,\n",
    "                       n_jobs=8,\n",
    "                       verbose=2)"
   ]
  },
  {
   "cell_type": "code",
   "execution_count": 64,
   "metadata": {},
   "outputs": [
    {
     "name": "stdout",
     "output_type": "stream",
     "text": [
      "Fitting 5 folds for each of 24 candidates, totalling 120 fits\n"
     ]
    },
    {
     "name": "stderr",
     "output_type": "stream",
     "text": [
      "[Parallel(n_jobs=8)]: Using backend LokyBackend with 8 concurrent workers.\n",
      "[Parallel(n_jobs=8)]: Done  25 tasks      | elapsed:  1.2min\n",
      "[Parallel(n_jobs=8)]: Done 120 out of 120 | elapsed:  8.9min finished\n"
     ]
    },
    {
     "data": {
      "text/plain": [
       "GridSearchCV(estimator=RandomForestClassifier(random_state=66), n_jobs=8,\n",
       "             param_grid={'max_depth': [2, 3, 4, 5],\n",
       "                         'max_features': ['log2', 'auto'],\n",
       "                         'n_estimators': [100, 150, 200]},\n",
       "             verbose=2)"
      ]
     },
     "execution_count": 64,
     "metadata": {},
     "output_type": "execute_result"
    }
   ],
   "source": [
    "rf4.fit(X2_train, y2_train)"
   ]
  },
  {
   "cell_type": "code",
   "execution_count": 65,
   "metadata": {},
   "outputs": [
    {
     "name": "stdout",
     "output_type": "stream",
     "text": [
      "Train score: 0.8888581842081678\n",
      "Test score: 0.8863570164235621\n"
     ]
    },
    {
     "data": {
      "text/plain": [
       "{'max_depth': 5, 'max_features': 'auto', 'n_estimators': 200}"
      ]
     },
     "execution_count": 65,
     "metadata": {},
     "output_type": "execute_result"
    }
   ],
   "source": [
    "print(f'Train score: {rf4.score(X2_train, y2_train)}')\n",
    "print(f'Test score: {rf4.score(X2_test, y2_test)}')\n",
    "rf4.best_params_"
   ]
  },
  {
   "cell_type": "code",
   "execution_count": 66,
   "metadata": {},
   "outputs": [
    {
     "data": {
      "text/plain": [
       "0.8863570164235621"
      ]
     },
     "execution_count": 66,
     "metadata": {},
     "output_type": "execute_result"
    }
   ],
   "source": [
    "preds4 = rf4.predict(X2_test)\n",
    "accuracy_score(y2_test, preds4)"
   ]
  },
  {
   "cell_type": "markdown",
   "metadata": {},
   "source": [
    "The accuracy of the models stayed around 88%, better than null but doesn't beat the original. Knowing what type of pitch is coming doesn't help in determining strike vs ball call. But this could explain how an umpire determines a pitch thrown. Some times it is hard to determine a strike or ball if the pitch thrown isn't always a fast ball."
   ]
  },
  {
   "cell_type": "code",
   "execution_count": 68,
   "metadata": {},
   "outputs": [
    {
     "data": {
      "image/png": "[encoded data removed]",
      "text/plain": [
       "<Figure size 432x288 with 2 Axes>"
      ]
     },
     "metadata": {
      "needs_background": "light"
     },
     "output_type": "display_data"
    }
   ],
   "source": [
    "plot_confusion_matrix(rf3, X2_test, y2_test)\n",
    "plt.show()"
   ]
  },
  {
   "cell_type": "code",
   "execution_count": 69,
   "metadata": {},
   "outputs": [
    {
     "data": {
      "image/png": "[encoded data removed]",
      "text/plain": [
       "<Figure size 432x288 with 2 Axes>"
      ]
     },
     "metadata": {
      "needs_background": "light"
     },
     "output_type": "display_data"
    }
   ],
   "source": [
    "plot_confusion_matrix(rf4, X2_test, y2_test)\n",
    "plt.show()"
   ]
  },
  {
   "cell_type": "markdown",
   "metadata": {},
   "source": [
    "Something interesting to note, is that when the pitch thrown is unknown, the model tends to predict a strike incorrectly in comparison to a ball. While if the pitch type is known, then the model has a significantly hard time predicting a ball compared to a strike.\n",
    "\n",
    "The data presented are causing big changes in regards to how many false positives and false negatives in a model. \n",
    "\n",
    "In the models that worked with data that didn't have pitch names, there were more false positives. It predicts strike but is actually a ball. While the models with pitch names included, we have more false negatives and by a significant margin (by about 50%)."
   ]
  },
  {
   "cell_type": "code",
   "execution_count": null,
   "metadata": {},
   "outputs": [],
   "source": []
  }
 ],
 "metadata": {
  "kernelspec": {
   "display_name": "Python 3",
   "language": "python",
   "name": "python3"
  },
  "language_info": {
   "codemirror_mode": {
    "name": "ipython",
    "version": 3
   },
   "file_extension": ".py",
   "mimetype": "text/x-python",
   "name": "python",
   "nbconvert_exporter": "python",
   "pygments_lexer": "ipython3",
   "version": "3.8.3"
  }
 },
 "nbformat": 4,
 "nbformat_minor": 4
}
