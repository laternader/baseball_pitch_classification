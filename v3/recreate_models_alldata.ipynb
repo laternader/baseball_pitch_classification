{
 "cells": [
  {
   "cell_type": "markdown",
   "metadata": {},
   "source": [
    "# Models\n",
    "---\n",
    "With all the data being rescraped and cleaned the way it is, we have to run new models. \n",
    "\n",
    "The models are working now but we will have to probably start sampling soon since the current dataframe being imported is over 2 million rows!"
   ]
  },
  {
   "cell_type": "code",
   "execution_count": 39,
   "metadata": {},
   "outputs": [],
   "source": [
    "# Import Packages\n",
    "import pandas as pd\n",
    "import numpy as np\n",
    "import matplotlib.pyplot as plt\n",
    "\n",
    "pd.set_option('display.max_columns', None)\n",
    "\n",
    "from sklearn.linear_model import LogisticRegression\n",
    "from sklearn.svm import SVC, LinearSVC\n",
    "from sklearn.ensemble import RandomForestClassifier\n",
    "\n",
    "from xgboost import XGBRFClassifier, XGBClassifier\n",
    "from sklearn.metrics import confusion_matrix, plot_confusion_matrix, f1_score, roc_curve, recall_score, precision_score\n",
    "\n",
    "from sklearn.preprocessing import LabelEncoder, StandardScaler\n",
    "from sklearn.model_selection import RandomizedSearchCV, train_test_split, GridSearchCV\n",
    "from sklearn.pipeline import Pipeline\n",
    "from sklearn.metrics import accuracy_score, f1_score, classification_report\n",
    "\n",
    "import pickle"
   ]
  },
  {
   "cell_type": "code",
   "execution_count": 7,
   "metadata": {},
   "outputs": [],
   "source": [
    "df = pd.read_csv('past_7_seasons_cleaned.csv')"
   ]
  },
  {
   "cell_type": "code",
   "execution_count": 8,
   "metadata": {},
   "outputs": [
    {
     "name": "stdout",
     "output_type": "stream",
     "text": [
      "<class 'pandas.core.frame.DataFrame'>\n",
      "RangeIndex: 2256848 entries, 0 to 2256847\n",
      "Data columns (total 18 columns):\n",
      " #   Column             Dtype  \n",
      "---  ------             -----  \n",
      " 0   release_speed      float64\n",
      " 1   release_pos_x      float64\n",
      " 2   release_pos_z      float64\n",
      " 3   stand              object \n",
      " 4   p_throws           object \n",
      " 5   type               object \n",
      " 6   pfx_x              float64\n",
      " 7   pfx_z              float64\n",
      " 8   plate_x            float64\n",
      " 9   plate_z            float64\n",
      " 10  vx0                float64\n",
      " 11  vy0                float64\n",
      " 12  vz0                float64\n",
      " 13  ax                 float64\n",
      " 14  ay                 float64\n",
      " 15  az                 float64\n",
      " 16  release_spin_rate  float64\n",
      " 17  pitch_name         object \n",
      "dtypes: float64(14), object(4)\n",
      "memory usage: 309.9+ MB\n"
     ]
    }
   ],
   "source": [
    "df.info()"
   ]
  },
  {
   "cell_type": "code",
   "execution_count": 11,
   "metadata": {},
   "outputs": [],
   "source": [
    "# Make a function to do the additional cleaning that was done after saving to a csv\n",
    "def post_clean(df):\n",
    "    \n",
    "    # Rename 'type' (our target) to 'result'\n",
    "    df.rename(columns={'type':'result'}, inplace=True)\n",
    "    \n",
    "    # Only want results that are S or B\n",
    "    df = df.loc[((df['result'] == 'S') | (df['result'] == 'B'))]\n",
    "    \n",
    "    # Print out Null Accuracy\n",
    "    print('The Null Accuracy:')\n",
    "    print(df['result'].value_counts(normalize=True))\n",
    "    \n",
    "    # Make 'stand','p_throws', and 'result' binary columns\n",
    "    # This shows that righties (R) are 1 while lefties (L) are 0\n",
    "    # As well as strikes (S) being represented as 1 and balls (B) as 0\n",
    "    df['result'] = np.where(df['result'] == 'S', 1, 0)\n",
    "    df['stand'] = np.where(df['stand'] == 'R', 1, 0)\n",
    "    df['p_throws'] = np.where(df['p_throws'] == 'R', 1, 0)\n",
    "    \n",
    "    # Rename the columns\n",
    "    df.rename(columns={'stand':'batter_stance','p_throws':'pitchers_throwing_hand','result':'result'},inplace=True)\n",
    "    \n",
    "    # We will make a copy of the dataframe to create a df to dummify the original\n",
    "    df2 = df.copy()\n",
    "    \n",
    "    # Drop the pitch_name from df2 copy\n",
    "    df2 = df2.loc[:, df2.columns != 'pitch_name']\n",
    "    \n",
    "    # Dummify pitch names on original df\n",
    "    df = pd.get_dummies(df, columns=['pitch_name'], prefix='pitch', drop_first=True)\n",
    "    \n",
    "    return df, df2"
   ]
  },
  {
   "cell_type": "code",
   "execution_count": 12,
   "metadata": {},
   "outputs": [
    {
     "name": "stdout",
     "output_type": "stream",
     "text": [
      "The Null Accuracy:\n",
      "B    0.666414\n",
      "S    0.333586\n",
      "Name: result, dtype: float64\n"
     ]
    },
    {
     "name": "stderr",
     "output_type": "stream",
     "text": [
      "<ipython-input-11-14f528666e86>:17: SettingWithCopyWarning: \n",
      "A value is trying to be set on a copy of a slice from a DataFrame.\n",
      "Try using .loc[row_indexer,col_indexer] = value instead\n",
      "\n",
      "See the caveats in the documentation: https://pandas.pydata.org/pandas-docs/stable/user_guide/indexing.html#returning-a-view-versus-a-copy\n",
      "  df['result'] = np.where(df['result'] == 'S', 1, 0)\n",
      "<ipython-input-11-14f528666e86>:18: SettingWithCopyWarning: \n",
      "A value is trying to be set on a copy of a slice from a DataFrame.\n",
      "Try using .loc[row_indexer,col_indexer] = value instead\n",
      "\n",
      "See the caveats in the documentation: https://pandas.pydata.org/pandas-docs/stable/user_guide/indexing.html#returning-a-view-versus-a-copy\n",
      "  df['stand'] = np.where(df['stand'] == 'R', 1, 0)\n",
      "<ipython-input-11-14f528666e86>:19: SettingWithCopyWarning: \n",
      "A value is trying to be set on a copy of a slice from a DataFrame.\n",
      "Try using .loc[row_indexer,col_indexer] = value instead\n",
      "\n",
      "See the caveats in the documentation: https://pandas.pydata.org/pandas-docs/stable/user_guide/indexing.html#returning-a-view-versus-a-copy\n",
      "  df['p_throws'] = np.where(df['p_throws'] == 'R', 1, 0)\n",
      "C:\\Users\\ncesm\\anaconda3\\envs\\capstone\\lib\\site-packages\\pandas\\core\\frame.py:4296: SettingWithCopyWarning: \n",
      "A value is trying to be set on a copy of a slice from a DataFrame\n",
      "\n",
      "See the caveats in the documentation: https://pandas.pydata.org/pandas-docs/stable/user_guide/indexing.html#returning-a-view-versus-a-copy\n",
      "  return super().rename(\n"
     ]
    }
   ],
   "source": [
    "df, df2 = post_clean(df)"
   ]
  },
  {
   "cell_type": "code",
   "execution_count": 16,
   "metadata": {},
   "outputs": [
    {
     "data": {
      "text/plain": [
       "0    0.666414\n",
       "1    0.333586\n",
       "Name: result, dtype: float64"
      ]
     },
     "execution_count": 16,
     "metadata": {},
     "output_type": "execute_result"
    }
   ],
   "source": [
    "df.result.value_counts(normalize=True)"
   ]
  },
  {
   "cell_type": "code",
   "execution_count": 14,
   "metadata": {},
   "outputs": [],
   "source": [
    "params = ({\n",
    "    'n_estimators':[100,150,200],\n",
    "    'max_depth':[2,3,4,5],\n",
    "    'max_features':['log2','auto']\n",
    "})"
   ]
  },
  {
   "cell_type": "code",
   "execution_count": 19,
   "metadata": {},
   "outputs": [
    {
     "data": {
      "text/html": [
       "<div>\n",
       "<style scoped>\n",
       "    .dataframe tbody tr th:only-of-type {\n",
       "        vertical-align: middle;\n",
       "    }\n",
       "\n",
       "    .dataframe tbody tr th {\n",
       "        vertical-align: top;\n",
       "    }\n",
       "\n",
       "    .dataframe thead th {\n",
       "        text-align: right;\n",
       "    }\n",
       "</style>\n",
       "<table border=\"1\" class=\"dataframe\">\n",
       "  <thead>\n",
       "    <tr style=\"text-align: right;\">\n",
       "      <th></th>\n",
       "      <th>release_speed</th>\n",
       "      <th>release_pos_x</th>\n",
       "      <th>release_pos_z</th>\n",
       "      <th>batter_stance</th>\n",
       "      <th>pitchers_throwing_hand</th>\n",
       "      <th>pfx_x</th>\n",
       "      <th>pfx_z</th>\n",
       "      <th>plate_x</th>\n",
       "      <th>plate_z</th>\n",
       "      <th>vx0</th>\n",
       "      <th>vy0</th>\n",
       "      <th>vz0</th>\n",
       "      <th>ax</th>\n",
       "      <th>ay</th>\n",
       "      <th>az</th>\n",
       "      <th>release_spin_rate</th>\n",
       "    </tr>\n",
       "  </thead>\n",
       "  <tbody>\n",
       "    <tr>\n",
       "      <th>0</th>\n",
       "      <td>96.1</td>\n",
       "      <td>-1.92</td>\n",
       "      <td>5.95</td>\n",
       "      <td>1</td>\n",
       "      <td>1</td>\n",
       "      <td>-0.27</td>\n",
       "      <td>1.70</td>\n",
       "      <td>-0.93</td>\n",
       "      <td>1.62</td>\n",
       "      <td>3.08</td>\n",
       "      <td>-139.61</td>\n",
       "      <td>-9.72</td>\n",
       "      <td>-2.03</td>\n",
       "      <td>34.78</td>\n",
       "      <td>-11.71</td>\n",
       "      <td>2463.0</td>\n",
       "    </tr>\n",
       "    <tr>\n",
       "      <th>1</th>\n",
       "      <td>93.6</td>\n",
       "      <td>-1.25</td>\n",
       "      <td>6.06</td>\n",
       "      <td>1</td>\n",
       "      <td>1</td>\n",
       "      <td>0.32</td>\n",
       "      <td>0.80</td>\n",
       "      <td>2.92</td>\n",
       "      <td>2.23</td>\n",
       "      <td>10.09</td>\n",
       "      <td>-135.73</td>\n",
       "      <td>-5.82</td>\n",
       "      <td>6.08</td>\n",
       "      <td>26.36</td>\n",
       "      <td>-24.25</td>\n",
       "      <td>2724.0</td>\n",
       "    </tr>\n",
       "    <tr>\n",
       "      <th>2</th>\n",
       "      <td>97.6</td>\n",
       "      <td>-1.45</td>\n",
       "      <td>6.22</td>\n",
       "      <td>0</td>\n",
       "      <td>1</td>\n",
       "      <td>-0.26</td>\n",
       "      <td>1.52</td>\n",
       "      <td>-0.85</td>\n",
       "      <td>3.15</td>\n",
       "      <td>2.00</td>\n",
       "      <td>-141.92</td>\n",
       "      <td>-6.17</td>\n",
       "      <td>-1.82</td>\n",
       "      <td>34.59</td>\n",
       "      <td>-13.48</td>\n",
       "      <td>2255.0</td>\n",
       "    </tr>\n",
       "    <tr>\n",
       "      <th>3</th>\n",
       "      <td>92.0</td>\n",
       "      <td>-1.77</td>\n",
       "      <td>6.12</td>\n",
       "      <td>0</td>\n",
       "      <td>1</td>\n",
       "      <td>0.23</td>\n",
       "      <td>0.80</td>\n",
       "      <td>-0.05</td>\n",
       "      <td>2.70</td>\n",
       "      <td>3.69</td>\n",
       "      <td>-133.89</td>\n",
       "      <td>-4.47</td>\n",
       "      <td>4.71</td>\n",
       "      <td>26.80</td>\n",
       "      <td>-24.40</td>\n",
       "      <td>2755.0</td>\n",
       "    </tr>\n",
       "    <tr>\n",
       "      <th>4</th>\n",
       "      <td>86.8</td>\n",
       "      <td>-1.56</td>\n",
       "      <td>6.08</td>\n",
       "      <td>1</td>\n",
       "      <td>1</td>\n",
       "      <td>0.28</td>\n",
       "      <td>-0.66</td>\n",
       "      <td>-0.10</td>\n",
       "      <td>1.07</td>\n",
       "      <td>2.71</td>\n",
       "      <td>-126.33</td>\n",
       "      <td>-4.10</td>\n",
       "      <td>4.71</td>\n",
       "      <td>26.40</td>\n",
       "      <td>-41.76</td>\n",
       "      <td>2498.0</td>\n",
       "    </tr>\n",
       "  </tbody>\n",
       "</table>\n",
       "</div>"
      ],
      "text/plain": [
       "   release_speed  release_pos_x  release_pos_z  batter_stance  \\\n",
       "0           96.1          -1.92           5.95              1   \n",
       "1           93.6          -1.25           6.06              1   \n",
       "2           97.6          -1.45           6.22              0   \n",
       "3           92.0          -1.77           6.12              0   \n",
       "4           86.8          -1.56           6.08              1   \n",
       "\n",
       "   pitchers_throwing_hand  pfx_x  pfx_z  plate_x  plate_z    vx0     vy0  \\\n",
       "0                       1  -0.27   1.70    -0.93     1.62   3.08 -139.61   \n",
       "1                       1   0.32   0.80     2.92     2.23  10.09 -135.73   \n",
       "2                       1  -0.26   1.52    -0.85     3.15   2.00 -141.92   \n",
       "3                       1   0.23   0.80    -0.05     2.70   3.69 -133.89   \n",
       "4                       1   0.28  -0.66    -0.10     1.07   2.71 -126.33   \n",
       "\n",
       "    vz0    ax     ay     az  release_spin_rate  \n",
       "0 -9.72 -2.03  34.78 -11.71             2463.0  \n",
       "1 -5.82  6.08  26.36 -24.25             2724.0  \n",
       "2 -6.17 -1.82  34.59 -13.48             2255.0  \n",
       "3 -4.47  4.71  26.80 -24.40             2755.0  \n",
       "4 -4.10  4.71  26.40 -41.76             2498.0  "
      ]
     },
     "execution_count": 19,
     "metadata": {},
     "output_type": "execute_result"
    }
   ],
   "source": [
    "X = df2.loc[:, df2.columns!='result'] # A matrix containing features we want\n",
    "y = df2.result # A vector we are aiming for\n",
    "X.head()"
   ]
  },
  {
   "cell_type": "code",
   "execution_count": 20,
   "metadata": {},
   "outputs": [],
   "source": [
    "# Use train test split to split X and y into training and testing sets\n",
    "X_train, X_test, y_train, y_test = train_test_split(X, y, random_state=66)"
   ]
  },
  {
   "cell_type": "code",
   "execution_count": 21,
   "metadata": {},
   "outputs": [
    {
     "data": {
      "text/plain": [
       "((1692633, 16), (564212, 16), (1692633,), (564212,))"
      ]
     },
     "execution_count": 21,
     "metadata": {},
     "output_type": "execute_result"
    }
   ],
   "source": [
    "# Check the splits are correct\n",
    "X_train.shape, X_test.shape, y_train.shape, y_test.shape"
   ]
  },
  {
   "cell_type": "code",
   "execution_count": 24,
   "metadata": {},
   "outputs": [],
   "source": [
    "rf = RandomizedSearchCV(RandomForestClassifier(),\n",
    "                        param_distributions=params,\n",
    "                        n_jobs=4,\n",
    "                        verbose=2,\n",
    "                        random_state=66)"
   ]
  },
  {
   "cell_type": "code",
   "execution_count": 25,
   "metadata": {},
   "outputs": [
    {
     "name": "stdout",
     "output_type": "stream",
     "text": [
      "Fitting 5 folds for each of 10 candidates, totalling 50 fits\n"
     ]
    },
    {
     "name": "stderr",
     "output_type": "stream",
     "text": [
      "[Parallel(n_jobs=4)]: Using backend LokyBackend with 4 concurrent workers.\n",
      "[Parallel(n_jobs=4)]: Done  33 tasks      | elapsed: 35.9min\n",
      "[Parallel(n_jobs=4)]: Done  50 out of  50 | elapsed: 54.3min finished\n"
     ]
    },
    {
     "data": {
      "text/plain": [
       "RandomizedSearchCV(estimator=RandomForestClassifier(), n_jobs=4,\n",
       "                   param_distributions={'max_depth': [2, 3, 4, 5],\n",
       "                                        'max_features': ['log2', 'auto'],\n",
       "                                        'n_estimators': [100, 150, 200]},\n",
       "                   random_state=66, verbose=2)"
      ]
     },
     "execution_count": 25,
     "metadata": {},
     "output_type": "execute_result"
    }
   ],
   "source": [
    "rf.fit(X_train, y_train)"
   ]
  },
  {
   "cell_type": "code",
   "execution_count": 26,
   "metadata": {},
   "outputs": [
    {
     "name": "stdout",
     "output_type": "stream",
     "text": [
      "Train score: 0.912073674565012\n",
      "Test score: 0.912290061182676\n"
     ]
    },
    {
     "data": {
      "text/plain": [
       "{'n_estimators': 200, 'max_features': 'auto', 'max_depth': 5}"
      ]
     },
     "execution_count": 26,
     "metadata": {},
     "output_type": "execute_result"
    }
   ],
   "source": [
    "print(f'Train score: {rf.score(X_train, y_train)}')\n",
    "print(f'Test score: {rf.score(X_test, y_test)}')\n",
    "rf.best_params_"
   ]
  },
  {
   "cell_type": "code",
   "execution_count": 27,
   "metadata": {},
   "outputs": [
    {
     "data": {
      "text/plain": [
       "0.912290061182676"
      ]
     },
     "execution_count": 27,
     "metadata": {},
     "output_type": "execute_result"
    }
   ],
   "source": [
    "preds = rf.predict(X_test)\n",
    "accuracy_score(y_test, preds)"
   ]
  },
  {
   "cell_type": "code",
   "execution_count": 28,
   "metadata": {},
   "outputs": [
    {
     "data": {
      "image/png": "[encoded data removed]",
      "text/plain": [
       "<Figure size 432x288 with 2 Axes>"
      ]
     },
     "metadata": {
      "needs_background": "light"
     },
     "output_type": "display_data"
    }
   ],
   "source": [
    "# Confusion Matrix\n",
    "plot_confusion_matrix(rf, X_test, y_test)\n",
    "plt.show()"
   ]
  },
  {
   "cell_type": "code",
   "execution_count": 31,
   "metadata": {},
   "outputs": [
    {
     "name": "stdout",
     "output_type": "stream",
     "text": [
      "[[347587  28891]\n",
      " [ 20596 167138]]\n"
     ]
    }
   ],
   "source": [
    "confusion = confusion_matrix(y_test, preds)\n",
    "print(confusion)\n",
    "TP = confusion[1, 1]\n",
    "TN = confusion[0, 0]\n",
    "FP = confusion[0, 1]\n",
    "FN = confusion[1, 0]"
   ]
  },
  {
   "cell_type": "code",
   "execution_count": 34,
   "metadata": {},
   "outputs": [
    {
     "name": "stdout",
     "output_type": "stream",
     "text": [
      "0.912290061182676\n",
      "0.912290061182676\n"
     ]
    }
   ],
   "source": [
    "# use float to perform true division, not integer division\n",
    "print((TP + TN) / float(TP + TN + FP + FN))\n",
    "print(accuracy_score(y_test, preds))"
   ]
  },
  {
   "cell_type": "markdown",
   "metadata": {},
   "source": [
    "This is the Classification Accuracy, how often is it correct.\n",
    "\n",
    "---\n",
    "Below is how often is it wrong, classification error."
   ]
  },
  {
   "cell_type": "code",
   "execution_count": 36,
   "metadata": {},
   "outputs": [
    {
     "name": "stdout",
     "output_type": "stream",
     "text": [
      "0.08770993881732399\n",
      "0.08770993881732403\n"
     ]
    }
   ],
   "source": [
    "classification_error = (FP + FN) / float(TP + TN + FP + FN)\n",
    "\n",
    "print(classification_error)\n",
    "print(1 - accuracy_score(y_test, preds))"
   ]
  },
  {
   "cell_type": "markdown",
   "metadata": {},
   "source": [
    "Next, we calculate sensitivity and specificity.\n",
    "\n",
    "Sensitivity - When the actual value is positive, how often is the prediction correct?\n",
    "- This needs to me maximized as much as possible\n",
    "- We need true positive rate or \"recall\"\n",
    "\n",
    "Specificity - When the actual value is negative, how often is the prediction correct?\n",
    "- We also need to maximize on this\n",
    "- How \"selective\" is the classifier at detecting positive instances"
   ]
  },
  {
   "cell_type": "code",
   "execution_count": 38,
   "metadata": {},
   "outputs": [
    {
     "name": "stdout",
     "output_type": "stream",
     "text": [
      "0.890291582771368\n",
      "0.890291582771368\n",
      "0.9232597920728436\n"
     ]
    }
   ],
   "source": [
    "sensitivity = TP / float(FN + TP)\n",
    "\n",
    "print(sensitivity)\n",
    "print(recall_score(y_test, preds))\n",
    "\n",
    "specificity = TN / (TN + FP)\n",
    "\n",
    "print(specificity)"
   ]
  },
  {
   "cell_type": "markdown",
   "metadata": {},
   "source": [
    "The classifer we just ran is both high in sensitivity and specificity. Meaning we are pretty accurate with our results. But considering it is not 100% shows that there is error in the classifier or that umpires are truly not perfect.\n",
    "\n",
    "---\n",
    "\n",
    "The last things we need are false positive rate (if the actual value is a ball, then how often are we incorrect) and precision (if the strike is predicted, how often is the prediction correct)"
   ]
  },
  {
   "cell_type": "code",
   "execution_count": 40,
   "metadata": {},
   "outputs": [
    {
     "name": "stdout",
     "output_type": "stream",
     "text": [
      "0.07674020792715644\n",
      "0.07674020792715641\n",
      "0.8526187451856613\n",
      "0.8526187451856613\n"
     ]
    }
   ],
   "source": [
    "false_positive_rate = FP / float(TN + FP)\n",
    "\n",
    "print(false_positive_rate)\n",
    "print(1 - specificity)\n",
    "\n",
    "precision = TP / float(TP + FP)\n",
    "\n",
    "print(precision)\n",
    "print(precision_score(y_test, preds))"
   ]
  },
  {
   "cell_type": "markdown",
   "metadata": {},
   "source": [
    "# Question\n",
    "\n",
    "Has umpiring gotten better in making ball and strike calls? In order to answer that, we will set up a model to run on the same parameters as the one above."
   ]
  },
  {
   "cell_type": "code",
   "execution_count": null,
   "metadata": {},
   "outputs": [],
   "source": [
    "# Import all the"
   ]
  }
 ],
 "metadata": {
  "kernelspec": {
   "display_name": "Python 3",
   "language": "python",
   "name": "python3"
  },
  "language_info": {
   "codemirror_mode": {
    "name": "ipython",
    "version": 3
   },
   "file_extension": ".py",
   "mimetype": "text/x-python",
   "name": "python",
   "nbconvert_exporter": "python",
   "pygments_lexer": "ipython3",
   "version": "3.8.3"
  }
 },
 "nbformat": 4,
 "nbformat_minor": 4
}
